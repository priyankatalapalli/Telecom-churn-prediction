{
  "nbformat": 4,
  "nbformat_minor": 0,
  "metadata": {
    "colab": {
      "provenance": []
    },
    "kernelspec": {
      "name": "python3",
      "display_name": "Python 3"
    },
    "language_info": {
      "name": "python"
    }
  },
  "cells": [
    {
      "cell_type": "code",
      "execution_count": null,
      "metadata": {
        "colab": {
          "base_uri": "https://localhost:8080/",
          "height": 142
        },
        "id": "Fd5QEDhHCFgR",
        "outputId": "84880e3c-64b1-4826-fbaa-967fb38d918f"
      },
      "outputs": [
        {
          "output_type": "display_data",
          "data": {
            "text/plain": [
              "<IPython.core.display.HTML object>"
            ],
            "text/html": [
              "\n",
              "     <input type=\"file\" id=\"files-9261368b-3906-4c69-9ccc-7550283c70f3\" name=\"files[]\" multiple disabled\n",
              "        style=\"border:none\" />\n",
              "     <output id=\"result-9261368b-3906-4c69-9ccc-7550283c70f3\">\n",
              "      Upload widget is only available when the cell has been executed in the\n",
              "      current browser session. Please rerun this cell to enable.\n",
              "      </output>\n",
              "      <script>// Copyright 2017 Google LLC\n",
              "//\n",
              "// Licensed under the Apache License, Version 2.0 (the \"License\");\n",
              "// you may not use this file except in compliance with the License.\n",
              "// You may obtain a copy of the License at\n",
              "//\n",
              "//      http://www.apache.org/licenses/LICENSE-2.0\n",
              "//\n",
              "// Unless required by applicable law or agreed to in writing, software\n",
              "// distributed under the License is distributed on an \"AS IS\" BASIS,\n",
              "// WITHOUT WARRANTIES OR CONDITIONS OF ANY KIND, either express or implied.\n",
              "// See the License for the specific language governing permissions and\n",
              "// limitations under the License.\n",
              "\n",
              "/**\n",
              " * @fileoverview Helpers for google.colab Python module.\n",
              " */\n",
              "(function(scope) {\n",
              "function span(text, styleAttributes = {}) {\n",
              "  const element = document.createElement('span');\n",
              "  element.textContent = text;\n",
              "  for (const key of Object.keys(styleAttributes)) {\n",
              "    element.style[key] = styleAttributes[key];\n",
              "  }\n",
              "  return element;\n",
              "}\n",
              "\n",
              "// Max number of bytes which will be uploaded at a time.\n",
              "const MAX_PAYLOAD_SIZE = 100 * 1024;\n",
              "\n",
              "function _uploadFiles(inputId, outputId) {\n",
              "  const steps = uploadFilesStep(inputId, outputId);\n",
              "  const outputElement = document.getElementById(outputId);\n",
              "  // Cache steps on the outputElement to make it available for the next call\n",
              "  // to uploadFilesContinue from Python.\n",
              "  outputElement.steps = steps;\n",
              "\n",
              "  return _uploadFilesContinue(outputId);\n",
              "}\n",
              "\n",
              "// This is roughly an async generator (not supported in the browser yet),\n",
              "// where there are multiple asynchronous steps and the Python side is going\n",
              "// to poll for completion of each step.\n",
              "// This uses a Promise to block the python side on completion of each step,\n",
              "// then passes the result of the previous step as the input to the next step.\n",
              "function _uploadFilesContinue(outputId) {\n",
              "  const outputElement = document.getElementById(outputId);\n",
              "  const steps = outputElement.steps;\n",
              "\n",
              "  const next = steps.next(outputElement.lastPromiseValue);\n",
              "  return Promise.resolve(next.value.promise).then((value) => {\n",
              "    // Cache the last promise value to make it available to the next\n",
              "    // step of the generator.\n",
              "    outputElement.lastPromiseValue = value;\n",
              "    return next.value.response;\n",
              "  });\n",
              "}\n",
              "\n",
              "/**\n",
              " * Generator function which is called between each async step of the upload\n",
              " * process.\n",
              " * @param {string} inputId Element ID of the input file picker element.\n",
              " * @param {string} outputId Element ID of the output display.\n",
              " * @return {!Iterable<!Object>} Iterable of next steps.\n",
              " */\n",
              "function* uploadFilesStep(inputId, outputId) {\n",
              "  const inputElement = document.getElementById(inputId);\n",
              "  inputElement.disabled = false;\n",
              "\n",
              "  const outputElement = document.getElementById(outputId);\n",
              "  outputElement.innerHTML = '';\n",
              "\n",
              "  const pickedPromise = new Promise((resolve) => {\n",
              "    inputElement.addEventListener('change', (e) => {\n",
              "      resolve(e.target.files);\n",
              "    });\n",
              "  });\n",
              "\n",
              "  const cancel = document.createElement('button');\n",
              "  inputElement.parentElement.appendChild(cancel);\n",
              "  cancel.textContent = 'Cancel upload';\n",
              "  const cancelPromise = new Promise((resolve) => {\n",
              "    cancel.onclick = () => {\n",
              "      resolve(null);\n",
              "    };\n",
              "  });\n",
              "\n",
              "  // Wait for the user to pick the files.\n",
              "  const files = yield {\n",
              "    promise: Promise.race([pickedPromise, cancelPromise]),\n",
              "    response: {\n",
              "      action: 'starting',\n",
              "    }\n",
              "  };\n",
              "\n",
              "  cancel.remove();\n",
              "\n",
              "  // Disable the input element since further picks are not allowed.\n",
              "  inputElement.disabled = true;\n",
              "\n",
              "  if (!files) {\n",
              "    return {\n",
              "      response: {\n",
              "        action: 'complete',\n",
              "      }\n",
              "    };\n",
              "  }\n",
              "\n",
              "  for (const file of files) {\n",
              "    const li = document.createElement('li');\n",
              "    li.append(span(file.name, {fontWeight: 'bold'}));\n",
              "    li.append(span(\n",
              "        `(${file.type || 'n/a'}) - ${file.size} bytes, ` +\n",
              "        `last modified: ${\n",
              "            file.lastModifiedDate ? file.lastModifiedDate.toLocaleDateString() :\n",
              "                                    'n/a'} - `));\n",
              "    const percent = span('0% done');\n",
              "    li.appendChild(percent);\n",
              "\n",
              "    outputElement.appendChild(li);\n",
              "\n",
              "    const fileDataPromise = new Promise((resolve) => {\n",
              "      const reader = new FileReader();\n",
              "      reader.onload = (e) => {\n",
              "        resolve(e.target.result);\n",
              "      };\n",
              "      reader.readAsArrayBuffer(file);\n",
              "    });\n",
              "    // Wait for the data to be ready.\n",
              "    let fileData = yield {\n",
              "      promise: fileDataPromise,\n",
              "      response: {\n",
              "        action: 'continue',\n",
              "      }\n",
              "    };\n",
              "\n",
              "    // Use a chunked sending to avoid message size limits. See b/62115660.\n",
              "    let position = 0;\n",
              "    do {\n",
              "      const length = Math.min(fileData.byteLength - position, MAX_PAYLOAD_SIZE);\n",
              "      const chunk = new Uint8Array(fileData, position, length);\n",
              "      position += length;\n",
              "\n",
              "      const base64 = btoa(String.fromCharCode.apply(null, chunk));\n",
              "      yield {\n",
              "        response: {\n",
              "          action: 'append',\n",
              "          file: file.name,\n",
              "          data: base64,\n",
              "        },\n",
              "      };\n",
              "\n",
              "      let percentDone = fileData.byteLength === 0 ?\n",
              "          100 :\n",
              "          Math.round((position / fileData.byteLength) * 100);\n",
              "      percent.textContent = `${percentDone}% done`;\n",
              "\n",
              "    } while (position < fileData.byteLength);\n",
              "  }\n",
              "\n",
              "  // All done.\n",
              "  yield {\n",
              "    response: {\n",
              "      action: 'complete',\n",
              "    }\n",
              "  };\n",
              "}\n",
              "\n",
              "scope.google = scope.google || {};\n",
              "scope.google.colab = scope.google.colab || {};\n",
              "scope.google.colab._files = {\n",
              "  _uploadFiles,\n",
              "  _uploadFilesContinue,\n",
              "};\n",
              "})(self);\n",
              "</script> "
            ]
          },
          "metadata": {}
        },
        {
          "output_type": "stream",
          "name": "stdout",
          "text": [
            "Saving churn_data.csv to churn_data (1).csv\n",
            "Saving customer_data.csv to customer_data (1).csv\n",
            "Saving internet_data.csv to internet_data (1).csv\n"
          ]
        }
      ],
      "source": [
        "from google.colab import files\n",
        "uploaded = files.upload()"
      ]
    },
    {
      "cell_type": "code",
      "source": [
        "import pandas as pd\n",
        "\n",
        "# (1) Importing and Reading the data sets\n",
        "churn_data = pd.read_csv(\"churn_data.csv\")\n",
        "customer_data = pd.read_csv('customer_data.csv')\n",
        "internet_data = pd.read_csv ('internet_data.csv')"
      ],
      "metadata": {
        "id": "wybovrVGCThc"
      },
      "execution_count": null,
      "outputs": []
    },
    {
      "cell_type": "code",
      "source": [
        "# Merging the datasets\n",
        "\n",
        "merged_df = pd.merge(churn_data, customer_data, on='customerID')\n",
        "merged_df1 = pd.merge(merged_df, internet_data, on='customerID')"
      ],
      "metadata": {
        "id": "hp9NPfR5FLrk"
      },
      "execution_count": null,
      "outputs": []
    },
    {
      "cell_type": "code",
      "source": [
        "# visualizing column names\n",
        "merged_df1.columns\n",
        "\n"
      ],
      "metadata": {
        "colab": {
          "base_uri": "https://localhost:8080/"
        },
        "id": "6EiihuU3Cn3H",
        "outputId": "881770df-a784-412e-a931-bc54ead2e8c3"
      },
      "execution_count": null,
      "outputs": [
        {
          "output_type": "execute_result",
          "data": {
            "text/plain": [
              "Index(['customerID', 'tenure', 'PhoneService', 'Contract', 'PaperlessBilling',\n",
              "       'PaymentMethod', 'MonthlyCharges', 'TotalCharges', 'Churn', 'gender',\n",
              "       'SeniorCitizen', 'Partner', 'Dependents', 'MultipleLines',\n",
              "       'InternetService', 'OnlineSecurity', 'OnlineBackup', 'DeviceProtection',\n",
              "       'TechSupport', 'StreamingTV', 'StreamingMovies'],\n",
              "      dtype='object')"
            ]
          },
          "metadata": {},
          "execution_count": 4
        }
      ]
    },
    {
      "cell_type": "code",
      "source": [
        "# (2) EDA\n",
        "merged_df1.info()"
      ],
      "metadata": {
        "colab": {
          "base_uri": "https://localhost:8080/"
        },
        "id": "M15CZ4KcCxq1",
        "outputId": "84991ae1-779d-4153-829d-bdc8661a12ef"
      },
      "execution_count": null,
      "outputs": [
        {
          "output_type": "stream",
          "name": "stdout",
          "text": [
            "<class 'pandas.core.frame.DataFrame'>\n",
            "Int64Index: 7043 entries, 0 to 7042\n",
            "Data columns (total 21 columns):\n",
            " #   Column            Non-Null Count  Dtype  \n",
            "---  ------            --------------  -----  \n",
            " 0   customerID        7043 non-null   object \n",
            " 1   tenure            7043 non-null   int64  \n",
            " 2   PhoneService      7043 non-null   object \n",
            " 3   Contract          7043 non-null   object \n",
            " 4   PaperlessBilling  7043 non-null   object \n",
            " 5   PaymentMethod     7043 non-null   object \n",
            " 6   MonthlyCharges    7043 non-null   float64\n",
            " 7   TotalCharges      7043 non-null   object \n",
            " 8   Churn             7043 non-null   object \n",
            " 9   gender            7043 non-null   object \n",
            " 10  SeniorCitizen     7043 non-null   int64  \n",
            " 11  Partner           7043 non-null   object \n",
            " 12  Dependents        7043 non-null   object \n",
            " 13  MultipleLines     7043 non-null   object \n",
            " 14  InternetService   7043 non-null   object \n",
            " 15  OnlineSecurity    7043 non-null   object \n",
            " 16  OnlineBackup      7043 non-null   object \n",
            " 17  DeviceProtection  7043 non-null   object \n",
            " 18  TechSupport       7043 non-null   object \n",
            " 19  StreamingTV       7043 non-null   object \n",
            " 20  StreamingMovies   7043 non-null   object \n",
            "dtypes: float64(1), int64(2), object(18)\n",
            "memory usage: 1.2+ MB\n"
          ]
        }
      ]
    },
    {
      "cell_type": "code",
      "source": [
        "print(merged_df1.shape)\n",
        "print(merged_df1.head())\n",
        "print(merged_df1.describe())\n",
        "print(merged_df1.isnull().sum())\n",
        "print(merged_df1.corr())"
      ],
      "metadata": {
        "colab": {
          "base_uri": "https://localhost:8080/"
        },
        "id": "dqMbk7TKKBdS",
        "outputId": "0533d967-67b4-4008-c6be-7932a5d6039f"
      },
      "execution_count": null,
      "outputs": [
        {
          "output_type": "stream",
          "name": "stdout",
          "text": [
            "(7043, 21)\n",
            "   customerID  tenure PhoneService        Contract PaperlessBilling  \\\n",
            "0  7590-VHVEG       1           No  Month-to-month              Yes   \n",
            "1  5575-GNVDE      34          Yes        One year               No   \n",
            "2  3668-QPYBK       2          Yes  Month-to-month              Yes   \n",
            "3  7795-CFOCW      45           No        One year               No   \n",
            "4  9237-HQITU       2          Yes  Month-to-month              Yes   \n",
            "\n",
            "               PaymentMethod  MonthlyCharges TotalCharges Churn  gender  ...  \\\n",
            "0           Electronic check           29.85        29.85    No  Female  ...   \n",
            "1               Mailed check           56.95       1889.5    No    Male  ...   \n",
            "2               Mailed check           53.85       108.15   Yes    Male  ...   \n",
            "3  Bank transfer (automatic)           42.30      1840.75    No    Male  ...   \n",
            "4           Electronic check           70.70       151.65   Yes  Female  ...   \n",
            "\n",
            "   Partner Dependents     MultipleLines InternetService OnlineSecurity  \\\n",
            "0      Yes         No  No phone service             DSL             No   \n",
            "1       No         No                No             DSL            Yes   \n",
            "2       No         No                No             DSL            Yes   \n",
            "3       No         No  No phone service             DSL            Yes   \n",
            "4       No         No                No     Fiber optic             No   \n",
            "\n",
            "  OnlineBackup DeviceProtection TechSupport StreamingTV StreamingMovies  \n",
            "0          Yes               No          No          No              No  \n",
            "1           No              Yes          No          No              No  \n",
            "2          Yes               No          No          No              No  \n",
            "3           No              Yes         Yes          No              No  \n",
            "4           No               No          No          No              No  \n",
            "\n",
            "[5 rows x 21 columns]\n",
            "            tenure  MonthlyCharges  SeniorCitizen\n",
            "count  7043.000000     7043.000000    7043.000000\n",
            "mean     32.371149       64.761692       0.162147\n",
            "std      24.559481       30.090047       0.368612\n",
            "min       0.000000       18.250000       0.000000\n",
            "25%       9.000000       35.500000       0.000000\n",
            "50%      29.000000       70.350000       0.000000\n",
            "75%      55.000000       89.850000       0.000000\n",
            "max      72.000000      118.750000       1.000000\n",
            "customerID          0\n",
            "tenure              0\n",
            "PhoneService        0\n",
            "Contract            0\n",
            "PaperlessBilling    0\n",
            "PaymentMethod       0\n",
            "MonthlyCharges      0\n",
            "TotalCharges        0\n",
            "Churn               0\n",
            "gender              0\n",
            "SeniorCitizen       0\n",
            "Partner             0\n",
            "Dependents          0\n",
            "MultipleLines       0\n",
            "InternetService     0\n",
            "OnlineSecurity      0\n",
            "OnlineBackup        0\n",
            "DeviceProtection    0\n",
            "TechSupport         0\n",
            "StreamingTV         0\n",
            "StreamingMovies     0\n",
            "dtype: int64\n",
            "                  tenure  MonthlyCharges  SeniorCitizen\n",
            "tenure          1.000000        0.247900       0.016567\n",
            "MonthlyCharges  0.247900        1.000000       0.220173\n",
            "SeniorCitizen   0.016567        0.220173       1.000000\n"
          ]
        },
        {
          "output_type": "stream",
          "name": "stderr",
          "text": [
            "<ipython-input-68-d287b8996e96>:5: FutureWarning: The default value of numeric_only in DataFrame.corr is deprecated. In a future version, it will default to False. Select only valid columns or specify the value of numeric_only to silence this warning.\n",
            "  print(merged_df1.corr())\n"
          ]
        }
      ]
    },
    {
      "cell_type": "code",
      "source": [
        "print(merged_df1['TotalCharges'])"
      ],
      "metadata": {
        "id": "U6as5XWOIqCf",
        "outputId": "ceeec3f0-8809-43db-c883-fbf37291a1e5",
        "colab": {
          "base_uri": "https://localhost:8080/"
        }
      },
      "execution_count": null,
      "outputs": [
        {
          "output_type": "stream",
          "name": "stdout",
          "text": [
            "0         29.85\n",
            "1        1889.5\n",
            "2        108.15\n",
            "3       1840.75\n",
            "4        151.65\n",
            "         ...   \n",
            "7038     1990.5\n",
            "7039     7362.9\n",
            "7040     346.45\n",
            "7041      306.6\n",
            "7042     6844.5\n",
            "Name: TotalCharges, Length: 7043, dtype: object\n"
          ]
        }
      ]
    },
    {
      "cell_type": "code",
      "source": [
        "# Transforming the column TotalCharges into a numeric data type because it has wrongly detected as \"object\"\n",
        "merged_df1['TotalCharges'] = pd.to_numeric(merged_df1['TotalCharges'], errors='coerce') # \"coerce\" used to replace the all the non numeric data with NaN\n",
        "print(merged_df1['TotalCharges'])"
      ],
      "metadata": {
        "colab": {
          "base_uri": "https://localhost:8080/"
        },
        "id": "wb-FaN2HIC_U",
        "outputId": "6de74329-5da0-4f17-bdc8-0640b143eacb"
      },
      "execution_count": null,
      "outputs": [
        {
          "output_type": "stream",
          "name": "stdout",
          "text": [
            "0         29.85\n",
            "1       1889.50\n",
            "2        108.15\n",
            "3       1840.75\n",
            "4        151.65\n",
            "         ...   \n",
            "7038    1990.50\n",
            "7039    7362.90\n",
            "7040     346.45\n",
            "7041     306.60\n",
            "7042    6844.50\n",
            "Name: TotalCharges, Length: 7043, dtype: float64\n"
          ]
        }
      ]
    },
    {
      "cell_type": "code",
      "source": [
        "# null observations of the TotalCharges column\n",
        "merged_df1['TotalCharges'].isnull().sum()"
      ],
      "metadata": {
        "colab": {
          "base_uri": "https://localhost:8080/"
        },
        "id": "hMI4LoekJC2T",
        "outputId": "889b32fa-26eb-40df-b19f-959237cb3e6a"
      },
      "execution_count": null,
      "outputs": [
        {
          "output_type": "execute_result",
          "data": {
            "text/plain": [
              "11"
            ]
          },
          "metadata": {},
          "execution_count": 71
        }
      ]
    },
    {
      "cell_type": "code",
      "source": [
        "# Droping observations with null values\n",
        "merged_df1['MonthlyCharges'].isnull().sum()\n",
        "# Here no null values exist in the \"MonthlyCharges\" so we can remove those observation from the dataset.\n",
        "# Droping observations with null values\n",
        "merged_df1.dropna(inplace=True)\n",
        "print(merged_df1)"
      ],
      "metadata": {
        "colab": {
          "base_uri": "https://localhost:8080/"
        },
        "id": "m2XOoB4JKHsB",
        "outputId": "8dd3f9b0-9d22-45e8-b049-0ba6b95429bf"
      },
      "execution_count": null,
      "outputs": [
        {
          "output_type": "stream",
          "name": "stdout",
          "text": [
            "      customerID  tenure PhoneService        Contract PaperlessBilling  \\\n",
            "0     7590-VHVEG       1           No  Month-to-month              Yes   \n",
            "1     5575-GNVDE      34          Yes        One year               No   \n",
            "2     3668-QPYBK       2          Yes  Month-to-month              Yes   \n",
            "3     7795-CFOCW      45           No        One year               No   \n",
            "4     9237-HQITU       2          Yes  Month-to-month              Yes   \n",
            "...          ...     ...          ...             ...              ...   \n",
            "7038  6840-RESVB      24          Yes        One year              Yes   \n",
            "7039  2234-XADUH      72          Yes        One year              Yes   \n",
            "7040  4801-JZAZL      11           No  Month-to-month              Yes   \n",
            "7041  8361-LTMKD       4          Yes  Month-to-month              Yes   \n",
            "7042  3186-AJIEK      66          Yes        Two year              Yes   \n",
            "\n",
            "                  PaymentMethod  MonthlyCharges  TotalCharges Churn  gender  \\\n",
            "0              Electronic check           29.85         29.85    No  Female   \n",
            "1                  Mailed check           56.95       1889.50    No    Male   \n",
            "2                  Mailed check           53.85        108.15   Yes    Male   \n",
            "3     Bank transfer (automatic)           42.30       1840.75    No    Male   \n",
            "4              Electronic check           70.70        151.65   Yes  Female   \n",
            "...                         ...             ...           ...   ...     ...   \n",
            "7038               Mailed check           84.80       1990.50    No    Male   \n",
            "7039    Credit card (automatic)          103.20       7362.90    No  Female   \n",
            "7040           Electronic check           29.60        346.45    No  Female   \n",
            "7041               Mailed check           74.40        306.60   Yes    Male   \n",
            "7042  Bank transfer (automatic)          105.65       6844.50    No    Male   \n",
            "\n",
            "      ...  Partner Dependents     MultipleLines InternetService  \\\n",
            "0     ...      Yes         No  No phone service             DSL   \n",
            "1     ...       No         No                No             DSL   \n",
            "2     ...       No         No                No             DSL   \n",
            "3     ...       No         No  No phone service             DSL   \n",
            "4     ...       No         No                No     Fiber optic   \n",
            "...   ...      ...        ...               ...             ...   \n",
            "7038  ...      Yes        Yes               Yes             DSL   \n",
            "7039  ...      Yes        Yes               Yes     Fiber optic   \n",
            "7040  ...      Yes        Yes  No phone service             DSL   \n",
            "7041  ...      Yes         No               Yes     Fiber optic   \n",
            "7042  ...       No         No                No     Fiber optic   \n",
            "\n",
            "     OnlineSecurity OnlineBackup DeviceProtection TechSupport StreamingTV  \\\n",
            "0                No          Yes               No          No          No   \n",
            "1               Yes           No              Yes          No          No   \n",
            "2               Yes          Yes               No          No          No   \n",
            "3               Yes           No              Yes         Yes          No   \n",
            "4                No           No               No          No          No   \n",
            "...             ...          ...              ...         ...         ...   \n",
            "7038            Yes           No              Yes         Yes         Yes   \n",
            "7039             No          Yes              Yes          No         Yes   \n",
            "7040            Yes           No               No          No          No   \n",
            "7041             No           No               No          No          No   \n",
            "7042            Yes           No              Yes         Yes         Yes   \n",
            "\n",
            "     StreamingMovies  \n",
            "0                 No  \n",
            "1                 No  \n",
            "2                 No  \n",
            "3                 No  \n",
            "4                 No  \n",
            "...              ...  \n",
            "7038             Yes  \n",
            "7039             Yes  \n",
            "7040              No  \n",
            "7041              No  \n",
            "7042             Yes  \n",
            "\n",
            "[7032 rows x 21 columns]\n"
          ]
        }
      ]
    },
    {
      "cell_type": "code",
      "source": [
        "# Droping the customerID column from the dataset as it is useless in the further calculations.\n",
        "merged_df1.drop(columns='customerID', inplace=True)\n",
        "print(merged_df1)"
      ],
      "metadata": {
        "colab": {
          "base_uri": "https://localhost:8080/"
        },
        "id": "JOGWt7PHLbmq",
        "outputId": "ef3ab97f-7c06-4e70-91c9-5ed11d32dd1f"
      },
      "execution_count": null,
      "outputs": [
        {
          "output_type": "stream",
          "name": "stdout",
          "text": [
            "      tenure PhoneService        Contract PaperlessBilling  \\\n",
            "0          1           No  Month-to-month              Yes   \n",
            "1         34          Yes        One year               No   \n",
            "2          2          Yes  Month-to-month              Yes   \n",
            "3         45           No        One year               No   \n",
            "4          2          Yes  Month-to-month              Yes   \n",
            "...      ...          ...             ...              ...   \n",
            "7038      24          Yes        One year              Yes   \n",
            "7039      72          Yes        One year              Yes   \n",
            "7040      11           No  Month-to-month              Yes   \n",
            "7041       4          Yes  Month-to-month              Yes   \n",
            "7042      66          Yes        Two year              Yes   \n",
            "\n",
            "                  PaymentMethod  MonthlyCharges  TotalCharges Churn  gender  \\\n",
            "0              Electronic check           29.85         29.85    No  Female   \n",
            "1                  Mailed check           56.95       1889.50    No    Male   \n",
            "2                  Mailed check           53.85        108.15   Yes    Male   \n",
            "3     Bank transfer (automatic)           42.30       1840.75    No    Male   \n",
            "4              Electronic check           70.70        151.65   Yes  Female   \n",
            "...                         ...             ...           ...   ...     ...   \n",
            "7038               Mailed check           84.80       1990.50    No    Male   \n",
            "7039    Credit card (automatic)          103.20       7362.90    No  Female   \n",
            "7040           Electronic check           29.60        346.45    No  Female   \n",
            "7041               Mailed check           74.40        306.60   Yes    Male   \n",
            "7042  Bank transfer (automatic)          105.65       6844.50    No    Male   \n",
            "\n",
            "      SeniorCitizen Partner Dependents     MultipleLines InternetService  \\\n",
            "0                 0     Yes         No  No phone service             DSL   \n",
            "1                 0      No         No                No             DSL   \n",
            "2                 0      No         No                No             DSL   \n",
            "3                 0      No         No  No phone service             DSL   \n",
            "4                 0      No         No                No     Fiber optic   \n",
            "...             ...     ...        ...               ...             ...   \n",
            "7038              0     Yes        Yes               Yes             DSL   \n",
            "7039              0     Yes        Yes               Yes     Fiber optic   \n",
            "7040              0     Yes        Yes  No phone service             DSL   \n",
            "7041              1     Yes         No               Yes     Fiber optic   \n",
            "7042              0      No         No                No     Fiber optic   \n",
            "\n",
            "     OnlineSecurity OnlineBackup DeviceProtection TechSupport StreamingTV  \\\n",
            "0                No          Yes               No          No          No   \n",
            "1               Yes           No              Yes          No          No   \n",
            "2               Yes          Yes               No          No          No   \n",
            "3               Yes           No              Yes         Yes          No   \n",
            "4                No           No               No          No          No   \n",
            "...             ...          ...              ...         ...         ...   \n",
            "7038            Yes           No              Yes         Yes         Yes   \n",
            "7039             No          Yes              Yes          No         Yes   \n",
            "7040            Yes           No               No          No          No   \n",
            "7041             No           No               No          No          No   \n",
            "7042            Yes           No              Yes         Yes         Yes   \n",
            "\n",
            "     StreamingMovies  \n",
            "0                 No  \n",
            "1                 No  \n",
            "2                 No  \n",
            "3                 No  \n",
            "4                 No  \n",
            "...              ...  \n",
            "7038             Yes  \n",
            "7039             Yes  \n",
            "7040              No  \n",
            "7041              No  \n",
            "7042             Yes  \n",
            "\n",
            "[7032 rows x 20 columns]\n"
          ]
        }
      ]
    },
    {
      "cell_type": "code",
      "source": [
        " print(merged_df1)"
      ],
      "metadata": {
        "colab": {
          "base_uri": "https://localhost:8080/"
        },
        "id": "SlIxySwOLuu8",
        "outputId": "1a70f7b4-632c-49b4-ae14-a2b8b6aa6b0a"
      },
      "execution_count": null,
      "outputs": [
        {
          "output_type": "stream",
          "name": "stdout",
          "text": [
            "      tenure PhoneService        Contract PaperlessBilling  \\\n",
            "0          1           No  Month-to-month              Yes   \n",
            "1         34          Yes        One year               No   \n",
            "2          2          Yes  Month-to-month              Yes   \n",
            "3         45           No        One year               No   \n",
            "4          2          Yes  Month-to-month              Yes   \n",
            "...      ...          ...             ...              ...   \n",
            "7038      24          Yes        One year              Yes   \n",
            "7039      72          Yes        One year              Yes   \n",
            "7040      11           No  Month-to-month              Yes   \n",
            "7041       4          Yes  Month-to-month              Yes   \n",
            "7042      66          Yes        Two year              Yes   \n",
            "\n",
            "                  PaymentMethod  MonthlyCharges  TotalCharges Churn  gender  \\\n",
            "0              Electronic check           29.85         29.85    No  Female   \n",
            "1                  Mailed check           56.95       1889.50    No    Male   \n",
            "2                  Mailed check           53.85        108.15   Yes    Male   \n",
            "3     Bank transfer (automatic)           42.30       1840.75    No    Male   \n",
            "4              Electronic check           70.70        151.65   Yes  Female   \n",
            "...                         ...             ...           ...   ...     ...   \n",
            "7038               Mailed check           84.80       1990.50    No    Male   \n",
            "7039    Credit card (automatic)          103.20       7362.90    No  Female   \n",
            "7040           Electronic check           29.60        346.45    No  Female   \n",
            "7041               Mailed check           74.40        306.60   Yes    Male   \n",
            "7042  Bank transfer (automatic)          105.65       6844.50    No    Male   \n",
            "\n",
            "      SeniorCitizen Partner Dependents     MultipleLines InternetService  \\\n",
            "0                 0     Yes         No  No phone service             DSL   \n",
            "1                 0      No         No                No             DSL   \n",
            "2                 0      No         No                No             DSL   \n",
            "3                 0      No         No  No phone service             DSL   \n",
            "4                 0      No         No                No     Fiber optic   \n",
            "...             ...     ...        ...               ...             ...   \n",
            "7038              0     Yes        Yes               Yes             DSL   \n",
            "7039              0     Yes        Yes               Yes     Fiber optic   \n",
            "7040              0     Yes        Yes  No phone service             DSL   \n",
            "7041              1     Yes         No               Yes     Fiber optic   \n",
            "7042              0      No         No                No     Fiber optic   \n",
            "\n",
            "     OnlineSecurity OnlineBackup DeviceProtection TechSupport StreamingTV  \\\n",
            "0                No          Yes               No          No          No   \n",
            "1               Yes           No              Yes          No          No   \n",
            "2               Yes          Yes               No          No          No   \n",
            "3               Yes           No              Yes         Yes          No   \n",
            "4                No           No               No          No          No   \n",
            "...             ...          ...              ...         ...         ...   \n",
            "7038            Yes           No              Yes         Yes         Yes   \n",
            "7039             No          Yes              Yes          No         Yes   \n",
            "7040            Yes           No               No          No          No   \n",
            "7041             No           No               No          No          No   \n",
            "7042            Yes           No              Yes         Yes         Yes   \n",
            "\n",
            "     StreamingMovies  \n",
            "0                 No  \n",
            "1                 No  \n",
            "2                 No  \n",
            "3                 No  \n",
            "4                 No  \n",
            "...              ...  \n",
            "7038             Yes  \n",
            "7039             Yes  \n",
            "7040              No  \n",
            "7041              No  \n",
            "7042             Yes  \n",
            "\n",
            "[7032 rows x 20 columns]\n"
          ]
        }
      ]
    },
    {
      "cell_type": "code",
      "source": [
        "# unique elements of the PaymentMethod column\n",
        "merged_df1.PaymentMethod.unique()\n"
      ],
      "metadata": {
        "colab": {
          "base_uri": "https://localhost:8080/"
        },
        "id": "8mz36fN6MCNa",
        "outputId": "8ff3f080-67fe-4f15-b65e-3b1f287c4ecb"
      },
      "execution_count": null,
      "outputs": [
        {
          "output_type": "execute_result",
          "data": {
            "text/plain": [
              "array(['Electronic check', 'Mailed check', 'Bank transfer (automatic)',\n",
              "       'Credit card (automatic)'], dtype=object)"
            ]
          },
          "metadata": {},
          "execution_count": 75
        }
      ]
    },
    {
      "cell_type": "code",
      "source": [
        "# \"PaymentMethod\" contain the word \"automatic\". These are too long to be used as tick labels so, we shall remove them.\n",
        "merged_df1['PaymentMethod'] = merged_df1['PaymentMethod'].str.replace(' (automatic)', '', regex=False)\n",
        "print(merged_df1['PaymentMethod'])\n",
        "merged_df1.PaymentMethod.unique()"
      ],
      "metadata": {
        "colab": {
          "base_uri": "https://localhost:8080/"
        },
        "id": "cXHe8l1KMzpl",
        "outputId": "7a20b19c-d18e-4d8b-cd20-2df0bc09f17f"
      },
      "execution_count": null,
      "outputs": [
        {
          "output_type": "stream",
          "name": "stdout",
          "text": [
            "0       Electronic check\n",
            "1           Mailed check\n",
            "2           Mailed check\n",
            "3          Bank transfer\n",
            "4       Electronic check\n",
            "              ...       \n",
            "7038        Mailed check\n",
            "7039         Credit card\n",
            "7040    Electronic check\n",
            "7041        Mailed check\n",
            "7042       Bank transfer\n",
            "Name: PaymentMethod, Length: 7032, dtype: object\n"
          ]
        },
        {
          "output_type": "execute_result",
          "data": {
            "text/plain": [
              "array(['Electronic check', 'Mailed check', 'Bank transfer', 'Credit card'],\n",
              "      dtype=object)"
            ]
          },
          "metadata": {},
          "execution_count": 76
        }
      ]
    },
    {
      "cell_type": "code",
      "source": [
        "#(3) Data Visualization\n",
        "import matplotlib.pyplot as plt\n",
        "prop_response = merged_df1['Churn'].value_counts(normalize=True)\n",
        "print(prop_response)"
      ],
      "metadata": {
        "colab": {
          "base_uri": "https://localhost:8080/"
        },
        "id": "_k5THecbOA1P",
        "outputId": "0465e4e7-0275-41d0-b44e-133df37c3416"
      },
      "execution_count": null,
      "outputs": [
        {
          "output_type": "stream",
          "name": "stdout",
          "text": [
            "No     0.734215\n",
            "Yes    0.265785\n",
            "Name: Churn, dtype: float64\n"
          ]
        }
      ]
    },
    {
      "cell_type": "code",
      "source": [
        "# Plotting the bar graph\n",
        "fig = plt.figure(figsize=(10, 6))\n",
        "ax = fig.add_subplot()\n",
        "prop_response.plot(kind='bar', ax=ax, color=['springgreen','salmon'])\n",
        "ax.set_title('Proportion of observations of the response variable')\n",
        "ax.set_xlabel('churn')\n",
        "ax.set_ylabel('proportion of observations')"
      ],
      "metadata": {
        "id": "4GyKrRNhRx0n",
        "colab": {
          "base_uri": "https://localhost:8080/",
          "height": 589
        },
        "outputId": "ed28f14b-e763-43a8-aeaf-c0e579e57e8a"
      },
      "execution_count": null,
      "outputs": [
        {
          "output_type": "execute_result",
          "data": {
            "text/plain": [
              "Text(0, 0.5, 'proportion of observations')"
            ]
          },
          "metadata": {},
          "execution_count": 78
        },
        {
          "output_type": "display_data",
          "data": {
            "text/plain": [
              "<Figure size 1000x600 with 1 Axes>"
            ],
            "image/png": "[encoded data removed]"
          },
          "metadata": {}
        }
      ]
    },
    {
      "cell_type": "code",
      "source": [
        "# Bar graph plotting\n",
        "# Distribution of gender based on churn status\n",
        "import seaborn as sns\n",
        "plt.figure(figsize = (12,6))\n",
        "sns.countplot(x = 'gender', hue = 'Churn', data = merged_df1)\n"
      ],
      "metadata": {
        "colab": {
          "base_uri": "https://localhost:8080/",
          "height": 559
        },
        "id": "bFdGLL8FFN_T",
        "outputId": "91476eab-f57e-40ce-8d64-e1c41667b715"
      },
      "execution_count": null,
      "outputs": [
        {
          "output_type": "execute_result",
          "data": {
            "text/plain": [
              "<Axes: xlabel='gender', ylabel='count'>"
            ]
          },
          "metadata": {},
          "execution_count": 79
        },
        {
          "output_type": "display_data",
          "data": {
            "text/plain": [
              "<Figure size 1200x600 with 1 Axes>"
            ],
            "image/png": "[encoded data removed]"
          },
          "metadata": {}
        }
      ]
    },
    {
      "cell_type": "code",
      "source": [
        "print(merged_df1['SeniorCitizen'].unique())\n",
        "SC = merged_df1['SeniorCitizen'].value_counts(normalize=True)\n",
        "print(SC)"
      ],
      "metadata": {
        "colab": {
          "base_uri": "https://localhost:8080/"
        },
        "id": "m7QTvu8NwBPx",
        "outputId": "ec17ea99-58c3-4ca4-a304-8a1e28acae90"
      },
      "execution_count": null,
      "outputs": [
        {
          "output_type": "stream",
          "name": "stdout",
          "text": [
            "[0 1]\n",
            "0    0.8376\n",
            "1    0.1624\n",
            "Name: SeniorCitizen, dtype: float64\n"
          ]
        }
      ]
    },
    {
      "cell_type": "code",
      "source": [
        "# Plotting the bar graph\n",
        "fig = plt.figure(figsize=(10, 6))\n",
        "ax = fig.add_subplot()\n",
        "SC.plot(kind='bar', ax=ax, rot = 0, color=['springgreen','salmon'])\n",
        "ax.set_title('Proportion of observations of the response variable')\n",
        "ax.set_xlabel('churn')\n",
        "ax.set_ylabel('proportion of observations')"
      ],
      "metadata": {
        "colab": {
          "base_uri": "https://localhost:8080/",
          "height": 581
        },
        "id": "e4WntdH8wX--",
        "outputId": "6dd41488-55bd-4261-ab8e-8467f264dfdc"
      },
      "execution_count": null,
      "outputs": [
        {
          "output_type": "execute_result",
          "data": {
            "text/plain": [
              "Text(0, 0.5, 'proportion of observations')"
            ]
          },
          "metadata": {},
          "execution_count": 81
        },
        {
          "output_type": "display_data",
          "data": {
            "text/plain": [
              "<Figure size 1000x600 with 1 Axes>"
            ],
            "image/png": "[encoded data removed]"
          },
          "metadata": {}
        }
      ]
    },
    {
      "cell_type": "code",
      "source": [
        "# Distribution of payment method based on churn status\n",
        "plt.figure(figsize = (12,6))\n",
        "sns.countplot(x = 'PaymentMethod', hue = 'Churn', data = merged_df1)\n",
        "\n",
        "# Distribution of internet service based on churn status\n",
        "plt.figure(figsize = (12,6))\n",
        "sns.countplot(x = 'InternetService', hue = 'Churn', data = merged_df1)\n",
        "\n",
        "\n",
        "# If we observe the churn rate in both the graphs people having electronic check methods and having fiber optic as internet services\n",
        "# are highly likely to churn compared with other sets of people.\n",
        "\n"
      ],
      "metadata": {
        "colab": {
          "base_uri": "https://localhost:8080/",
          "height": 1000
        },
        "id": "FePRp4cZJWlj",
        "outputId": "ace0d82f-0cd7-49e4-c643-04d49d8e1a9f"
      },
      "execution_count": null,
      "outputs": [
        {
          "output_type": "execute_result",
          "data": {
            "text/plain": [
              "<Axes: xlabel='InternetService', ylabel='count'>"
            ]
          },
          "metadata": {},
          "execution_count": 82
        },
        {
          "output_type": "display_data",
          "data": {
            "text/plain": [
              "<Figure size 1200x600 with 1 Axes>"
            ],
            "image/png": "[encoded data removed]"
          },
          "metadata": {}
        },
        {
          "output_type": "display_data",
          "data": {
            "text/plain": [
              "<Figure size 1200x600 with 1 Axes>"
            ],
            "image/png": "[encoded data removed]"
          },
          "metadata": {}
        }
      ]
    },
    {
      "cell_type": "code",
      "source": [
        "# Distribution of Partener based on churn status\n",
        "plt.figure(figsize = (12,6))\n",
        "sns.countplot(x = 'Partner', hue = 'Churn', data = merged_df1)\n",
        "\n",
        "# Distribution of Gender based on churn status\n",
        "plt.figure(figsize = (12,6))\n",
        "sns.countplot(x = 'gender', hue = 'Churn', data = merged_df1)\n",
        "\n",
        "\n",
        "# Customers with a partner churn less than customers with no partner.\n",
        "# In the gender plot whether it is male of female churning rate is same."
      ],
      "metadata": {
        "colab": {
          "base_uri": "https://localhost:8080/",
          "height": 1000
        },
        "id": "2PEvoBCdXrck",
        "outputId": "bfa5541a-143f-4b72-9f9f-9398fb16fe12"
      },
      "execution_count": null,
      "outputs": [
        {
          "output_type": "execute_result",
          "data": {
            "text/plain": [
              "<Axes: xlabel='gender', ylabel='count'>"
            ]
          },
          "metadata": {},
          "execution_count": 83
        },
        {
          "output_type": "display_data",
          "data": {
            "text/plain": [
              "<Figure size 1200x600 with 1 Axes>"
            ],
            "image/png": "[encoded data removed]"
          },
          "metadata": {}
        },
        {
          "output_type": "display_data",
          "data": {
            "text/plain": [
              "<Figure size 1200x600 with 1 Axes>"
            ],
            "image/png": "[encoded data removed]"
          },
          "metadata": {}
        }
      ]
    },
    {
      "cell_type": "code",
      "source": [
        "# Box plot\n",
        "# Distribution of tenure based on churn status\n",
        "plt.figure(figsize = (12,6))\n",
        "sns.boxplot(x = 'Churn', y ='tenure', data = merged_df1)\n",
        "\n",
        "# we can see that people with low tenure are likely to churn compared with people with higher tenure."
      ],
      "metadata": {
        "colab": {
          "base_uri": "https://localhost:8080/",
          "height": 559
        },
        "id": "hDvhnJe9LTT3",
        "outputId": "c98efa98-e726-4274-c640-563c8cc6818a"
      },
      "execution_count": null,
      "outputs": [
        {
          "output_type": "execute_result",
          "data": {
            "text/plain": [
              "<Axes: xlabel='Churn', ylabel='tenure'>"
            ]
          },
          "metadata": {},
          "execution_count": 84
        },
        {
          "output_type": "display_data",
          "data": {
            "text/plain": [
              "<Figure size 1200x600 with 1 Axes>"
            ],
            "image/png": "[encoded data removed]"
          },
          "metadata": {}
        }
      ]
    },
    {
      "cell_type": "code",
      "source": [
        "# Distribution of monthly charges based on churn status\n",
        "plt.figure(figsize = (12,6))\n",
        "sns.boxplot(x = 'Churn', y ='MonthlyCharges', data = merged_df1)\n",
        "\n",
        "# we can see that people who churned are more likely to have higher monthly charges."
      ],
      "metadata": {
        "colab": {
          "base_uri": "https://localhost:8080/",
          "height": 559
        },
        "id": "rdZxC_2YPQYy",
        "outputId": "2f9b34a5-7830-4c9f-a6fe-2f69c9b4ab56"
      },
      "execution_count": null,
      "outputs": [
        {
          "output_type": "execute_result",
          "data": {
            "text/plain": [
              "<Axes: xlabel='Churn', ylabel='MonthlyCharges'>"
            ]
          },
          "metadata": {},
          "execution_count": 85
        },
        {
          "output_type": "display_data",
          "data": {
            "text/plain": [
              "<Figure size 1200x600 with 1 Axes>"
            ],
            "image/png": "[encoded data removed]"
          },
          "metadata": {}
        }
      ]
    },
    {
      "cell_type": "code",
      "source": [
        "# Customer Account Information — Categorical variables\n",
        "\n",
        "# Distribution of Contract based on churn status\n",
        "plt.figure(figsize = (12,6))\n",
        "sns.countplot(x = 'Contract', hue = 'Churn', data = merged_df1)\n",
        "\n",
        "# Distribution of PaperlessBilling based on churn status\n",
        "plt.figure(figsize = (12,6))\n",
        "sns.countplot(x = 'PaperlessBilling', hue = 'Churn', data = merged_df1)\n",
        "\n",
        "# Distribution of PaymentMethod based on churn status\n",
        "plt.figure(figsize = (12,6))\n",
        "sns.countplot(x = 'PaymentMethod', hue = 'Churn', data = merged_df1)\n",
        "\n",
        "\n",
        "# Customers with month-to-month contracts have higher churn rates compared to clients with yearly contracts.\n",
        "# Customers who opted for an electronic check as paying method are more likely to leave the company.\n",
        "# Customers who opted to paperless billing churn more than those who are not opted.\n"
      ],
      "metadata": {
        "colab": {
          "base_uri": "https://localhost:8080/",
          "height": 1000
        },
        "id": "YTS_rkgmPkBw",
        "outputId": "9266e3ba-3192-4e03-c5d2-89d22379b4a0"
      },
      "execution_count": null,
      "outputs": [
        {
          "output_type": "execute_result",
          "data": {
            "text/plain": [
              "<Axes: xlabel='PaymentMethod', ylabel='count'>"
            ]
          },
          "metadata": {},
          "execution_count": 86
        },
        {
          "output_type": "display_data",
          "data": {
            "text/plain": [
              "<Figure size 1200x600 with 1 Axes>"
            ],
            "image/png": "[encoded data removed]"
          },
          "metadata": {}
        },
        {
          "output_type": "display_data",
          "data": {
            "text/plain": [
              "<Figure size 1200x600 with 1 Axes>"
            ],
            "image/png": "[encoded data removed]"
          },
          "metadata": {}
        },
        {
          "output_type": "display_data",
          "data": {
            "text/plain": [
              "<Figure size 1200x600 with 1 Axes>"
            ],
            "image/png": "[encoded data removed]"
          },
          "metadata": {}
        }
      ]
    },
    {
      "cell_type": "code",
      "source": [
        "unique_values = pd.DataFrame(columns=['Column', 'Unique_Values'])\n",
        "for column in merged_df1.select_dtypes(include='object'):\n",
        "    unique_values = unique_values.append({'Column': column, 'Unique_Values': merged_df1[column].unique()}, ignore_index=True)\n",
        "\n",
        "print(unique_values)"
      ],
      "metadata": {
        "colab": {
          "base_uri": "https://localhost:8080/"
        },
        "id": "5NZVG42ZdW9b",
        "outputId": "e1f0cb77-9f6f-4fca-dbdf-6bd47c897f25"
      },
      "execution_count": null,
      "outputs": [
        {
          "output_type": "stream",
          "name": "stdout",
          "text": [
            "              Column                                      Unique_Values\n",
            "0       PhoneService                                          [No, Yes]\n",
            "1           Contract               [Month-to-month, One year, Two year]\n",
            "2   PaperlessBilling                                          [Yes, No]\n",
            "3      PaymentMethod  [Electronic check, Mailed check, Bank transfer...\n",
            "4              Churn                                          [No, Yes]\n",
            "5             gender                                     [Female, Male]\n",
            "6            Partner                                          [Yes, No]\n",
            "7         Dependents                                          [No, Yes]\n",
            "8      MultipleLines                        [No phone service, No, Yes]\n",
            "9    InternetService                             [DSL, Fiber optic, No]\n",
            "10    OnlineSecurity                     [No, Yes, No internet service]\n",
            "11      OnlineBackup                     [Yes, No, No internet service]\n",
            "12  DeviceProtection                     [No, Yes, No internet service]\n",
            "13       TechSupport                     [No, Yes, No internet service]\n",
            "14       StreamingTV                     [No, Yes, No internet service]\n",
            "15   StreamingMovies                     [No, Yes, No internet service]\n"
          ]
        },
        {
          "output_type": "stream",
          "name": "stderr",
          "text": [
            "<ipython-input-87-3c211a7b5773>:3: FutureWarning: The frame.append method is deprecated and will be removed from pandas in a future version. Use pandas.concat instead.\n",
            "  unique_values = unique_values.append({'Column': column, 'Unique_Values': merged_df1[column].unique()}, ignore_index=True)\n",
            "<ipython-input-87-3c211a7b5773>:3: FutureWarning: The frame.append method is deprecated and will be removed from pandas in a future version. Use pandas.concat instead.\n",
            "  unique_values = unique_values.append({'Column': column, 'Unique_Values': merged_df1[column].unique()}, ignore_index=True)\n",
            "<ipython-input-87-3c211a7b5773>:3: FutureWarning: The frame.append method is deprecated and will be removed from pandas in a future version. Use pandas.concat instead.\n",
            "  unique_values = unique_values.append({'Column': column, 'Unique_Values': merged_df1[column].unique()}, ignore_index=True)\n",
            "<ipython-input-87-3c211a7b5773>:3: FutureWarning: The frame.append method is deprecated and will be removed from pandas in a future version. Use pandas.concat instead.\n",
            "  unique_values = unique_values.append({'Column': column, 'Unique_Values': merged_df1[column].unique()}, ignore_index=True)\n",
            "<ipython-input-87-3c211a7b5773>:3: FutureWarning: The frame.append method is deprecated and will be removed from pandas in a future version. Use pandas.concat instead.\n",
            "  unique_values = unique_values.append({'Column': column, 'Unique_Values': merged_df1[column].unique()}, ignore_index=True)\n",
            "<ipython-input-87-3c211a7b5773>:3: FutureWarning: The frame.append method is deprecated and will be removed from pandas in a future version. Use pandas.concat instead.\n",
            "  unique_values = unique_values.append({'Column': column, 'Unique_Values': merged_df1[column].unique()}, ignore_index=True)\n",
            "<ipython-input-87-3c211a7b5773>:3: FutureWarning: The frame.append method is deprecated and will be removed from pandas in a future version. Use pandas.concat instead.\n",
            "  unique_values = unique_values.append({'Column': column, 'Unique_Values': merged_df1[column].unique()}, ignore_index=True)\n",
            "<ipython-input-87-3c211a7b5773>:3: FutureWarning: The frame.append method is deprecated and will be removed from pandas in a future version. Use pandas.concat instead.\n",
            "  unique_values = unique_values.append({'Column': column, 'Unique_Values': merged_df1[column].unique()}, ignore_index=True)\n",
            "<ipython-input-87-3c211a7b5773>:3: FutureWarning: The frame.append method is deprecated and will be removed from pandas in a future version. Use pandas.concat instead.\n",
            "  unique_values = unique_values.append({'Column': column, 'Unique_Values': merged_df1[column].unique()}, ignore_index=True)\n",
            "<ipython-input-87-3c211a7b5773>:3: FutureWarning: The frame.append method is deprecated and will be removed from pandas in a future version. Use pandas.concat instead.\n",
            "  unique_values = unique_values.append({'Column': column, 'Unique_Values': merged_df1[column].unique()}, ignore_index=True)\n",
            "<ipython-input-87-3c211a7b5773>:3: FutureWarning: The frame.append method is deprecated and will be removed from pandas in a future version. Use pandas.concat instead.\n",
            "  unique_values = unique_values.append({'Column': column, 'Unique_Values': merged_df1[column].unique()}, ignore_index=True)\n",
            "<ipython-input-87-3c211a7b5773>:3: FutureWarning: The frame.append method is deprecated and will be removed from pandas in a future version. Use pandas.concat instead.\n",
            "  unique_values = unique_values.append({'Column': column, 'Unique_Values': merged_df1[column].unique()}, ignore_index=True)\n",
            "<ipython-input-87-3c211a7b5773>:3: FutureWarning: The frame.append method is deprecated and will be removed from pandas in a future version. Use pandas.concat instead.\n",
            "  unique_values = unique_values.append({'Column': column, 'Unique_Values': merged_df1[column].unique()}, ignore_index=True)\n",
            "<ipython-input-87-3c211a7b5773>:3: FutureWarning: The frame.append method is deprecated and will be removed from pandas in a future version. Use pandas.concat instead.\n",
            "  unique_values = unique_values.append({'Column': column, 'Unique_Values': merged_df1[column].unique()}, ignore_index=True)\n",
            "<ipython-input-87-3c211a7b5773>:3: FutureWarning: The frame.append method is deprecated and will be removed from pandas in a future version. Use pandas.concat instead.\n",
            "  unique_values = unique_values.append({'Column': column, 'Unique_Values': merged_df1[column].unique()}, ignore_index=True)\n",
            "<ipython-input-87-3c211a7b5773>:3: FutureWarning: The frame.append method is deprecated and will be removed from pandas in a future version. Use pandas.concat instead.\n",
            "  unique_values = unique_values.append({'Column': column, 'Unique_Values': merged_df1[column].unique()}, ignore_index=True)\n"
          ]
        }
      ]
    },
    {
      "cell_type": "code",
      "source": [
        "merged_df1['OnlineSecurity'].value_counts()"
      ],
      "metadata": {
        "colab": {
          "base_uri": "https://localhost:8080/"
        },
        "id": "3ME-pJ2sdXAA",
        "outputId": "080c9c26-decb-481e-cd25-0466d7ed1dc4"
      },
      "execution_count": null,
      "outputs": [
        {
          "output_type": "execute_result",
          "data": {
            "text/plain": [
              "No                     3497\n",
              "Yes                    2015\n",
              "No internet service    1520\n",
              "Name: OnlineSecurity, dtype: int64"
            ]
          },
          "metadata": {},
          "execution_count": 88
        }
      ]
    },
    {
      "cell_type": "code",
      "source": [
        "merged_df1['OnlineBackup'].value_counts()"
      ],
      "metadata": {
        "colab": {
          "base_uri": "https://localhost:8080/"
        },
        "id": "DNqAa2DPdXCq",
        "outputId": "cbd934d6-7d76-416e-b569-41af0158e728"
      },
      "execution_count": null,
      "outputs": [
        {
          "output_type": "execute_result",
          "data": {
            "text/plain": [
              "No                     3087\n",
              "Yes                    2425\n",
              "No internet service    1520\n",
              "Name: OnlineBackup, dtype: int64"
            ]
          },
          "metadata": {},
          "execution_count": 89
        }
      ]
    },
    {
      "cell_type": "code",
      "source": [
        "merged_df1['DeviceProtection'].value_counts()"
      ],
      "metadata": {
        "colab": {
          "base_uri": "https://localhost:8080/"
        },
        "id": "TgZRI8uLdXFa",
        "outputId": "bbfc219a-cf31-45eb-b301-9db149fef077"
      },
      "execution_count": null,
      "outputs": [
        {
          "output_type": "execute_result",
          "data": {
            "text/plain": [
              "No                     3094\n",
              "Yes                    2418\n",
              "No internet service    1520\n",
              "Name: DeviceProtection, dtype: int64"
            ]
          },
          "metadata": {},
          "execution_count": 90
        }
      ]
    },
    {
      "cell_type": "code",
      "source": [
        "merged_df1['TechSupport'].value_counts()"
      ],
      "metadata": {
        "colab": {
          "base_uri": "https://localhost:8080/"
        },
        "id": "dbvqz22cdXH1",
        "outputId": "a2bb1649-9711-4db7-c29d-ac4c79b219d9"
      },
      "execution_count": null,
      "outputs": [
        {
          "output_type": "execute_result",
          "data": {
            "text/plain": [
              "No                     3472\n",
              "Yes                    2040\n",
              "No internet service    1520\n",
              "Name: TechSupport, dtype: int64"
            ]
          },
          "metadata": {},
          "execution_count": 95
        }
      ]
    },
    {
      "cell_type": "code",
      "source": [
        "merged_df1['StreamingTV'].value_counts()"
      ],
      "metadata": {
        "colab": {
          "base_uri": "https://localhost:8080/"
        },
        "id": "GMU5vLN0dXKt",
        "outputId": "4c1d8261-c263-46b0-8cf6-850ae02cbd99"
      },
      "execution_count": null,
      "outputs": [
        {
          "output_type": "execute_result",
          "data": {
            "text/plain": [
              "No                     2809\n",
              "Yes                    2703\n",
              "No internet service    1520\n",
              "Name: StreamingTV, dtype: int64"
            ]
          },
          "metadata": {},
          "execution_count": 94
        }
      ]
    },
    {
      "cell_type": "code",
      "source": [
        "merged_df1['StreamingMovies'].value_counts()"
      ],
      "metadata": {
        "colab": {
          "base_uri": "https://localhost:8080/"
        },
        "id": "tKS0Z1nzdXNz",
        "outputId": "76219524-da02-4cac-9805-e4bd40caefe4"
      },
      "execution_count": null,
      "outputs": [
        {
          "output_type": "execute_result",
          "data": {
            "text/plain": [
              "No                     2781\n",
              "Yes                    2731\n",
              "No internet service    1520\n",
              "Name: StreamingMovies, dtype: int64"
            ]
          },
          "metadata": {},
          "execution_count": 93
        }
      ]
    },
    {
      "cell_type": "code",
      "source": [
        "merged_df1['InternetService'].value_counts()"
      ],
      "metadata": {
        "colab": {
          "base_uri": "https://localhost:8080/"
        },
        "id": "PCBuKnXNdXP6",
        "outputId": "5b9769b5-d4c5-448f-cf4e-93f3822fd433"
      },
      "execution_count": null,
      "outputs": [
        {
          "output_type": "execute_result",
          "data": {
            "text/plain": [
              "Fiber optic    3096\n",
              "DSL            2416\n",
              "No             1520\n",
              "Name: InternetService, dtype: int64"
            ]
          },
          "metadata": {},
          "execution_count": 92
        }
      ]
    },
    {
      "cell_type": "code",
      "source": [
        "abc = merged_df1.loc [merged_df1['InternetService'] == 'No']\n",
        "abc"
      ],
      "metadata": {
        "colab": {
          "base_uri": "https://localhost:8080/",
          "height": 661
        },
        "id": "v3qj1rMedXSw",
        "outputId": "80a3f554-d513-4a4d-8a9c-98239b5f9e32"
      },
      "execution_count": null,
      "outputs": [
        {
          "output_type": "execute_result",
          "data": {
            "text/plain": [
              "      tenure PhoneService        Contract PaperlessBilling     PaymentMethod  \\\n",
              "11        16          Yes        Two year               No       Credit card   \n",
              "16        52          Yes        One year               No      Mailed check   \n",
              "21        12          Yes        One year               No     Bank transfer   \n",
              "22         1          Yes  Month-to-month               No      Mailed check   \n",
              "33         1          Yes  Month-to-month               No     Bank transfer   \n",
              "...      ...          ...             ...              ...               ...   \n",
              "7017      51          Yes        Two year               No     Bank transfer   \n",
              "7019      39          Yes        Two year               No      Mailed check   \n",
              "7020      12          Yes  Month-to-month              Yes  Electronic check   \n",
              "7030       2          Yes  Month-to-month              Yes      Mailed check   \n",
              "7037      72          Yes        Two year              Yes     Bank transfer   \n",
              "\n",
              "      MonthlyCharges  TotalCharges Churn  gender  SeniorCitizen Partner  \\\n",
              "11             18.95        326.80    No    Male              0      No   \n",
              "16             20.65       1022.95    No  Female              0      No   \n",
              "21             19.80        202.25    No    Male              0     Yes   \n",
              "22             20.15         20.15   Yes    Male              0      No   \n",
              "33             20.20         20.20    No    Male              0      No   \n",
              "...              ...           ...   ...     ...            ...     ...   \n",
              "7017           20.65       1020.75    No  Female              0      No   \n",
              "7019           20.15        826.00    No  Female              0      No   \n",
              "7020           19.20        239.00    No    Male              0     Yes   \n",
              "7030           20.05         39.25    No  Female              0      No   \n",
              "7037           21.15       1419.40    No  Female              0      No   \n",
              "\n",
              "     Dependents MultipleLines InternetService       OnlineSecurity  \\\n",
              "11           No            No              No  No internet service   \n",
              "16           No            No              No  No internet service   \n",
              "21           No            No              No  No internet service   \n",
              "22           No            No              No  No internet service   \n",
              "33           No            No              No  No internet service   \n",
              "...         ...           ...             ...                  ...   \n",
              "7017         No            No              No  No internet service   \n",
              "7019         No            No              No  No internet service   \n",
              "7020        Yes            No              No  No internet service   \n",
              "7030         No            No              No  No internet service   \n",
              "7037         No            No              No  No internet service   \n",
              "\n",
              "             OnlineBackup     DeviceProtection          TechSupport  \\\n",
              "11    No internet service  No internet service  No internet service   \n",
              "16    No internet service  No internet service  No internet service   \n",
              "21    No internet service  No internet service  No internet service   \n",
              "22    No internet service  No internet service  No internet service   \n",
              "33    No internet service  No internet service  No internet service   \n",
              "...                   ...                  ...                  ...   \n",
              "7017  No internet service  No internet service  No internet service   \n",
              "7019  No internet service  No internet service  No internet service   \n",
              "7020  No internet service  No internet service  No internet service   \n",
              "7030  No internet service  No internet service  No internet service   \n",
              "7037  No internet service  No internet service  No internet service   \n",
              "\n",
              "              StreamingTV      StreamingMovies  \n",
              "11    No internet service  No internet service  \n",
              "16    No internet service  No internet service  \n",
              "21    No internet service  No internet service  \n",
              "22    No internet service  No internet service  \n",
              "33    No internet service  No internet service  \n",
              "...                   ...                  ...  \n",
              "7017  No internet service  No internet service  \n",
              "7019  No internet service  No internet service  \n",
              "7020  No internet service  No internet service  \n",
              "7030  No internet service  No internet service  \n",
              "7037  No internet service  No internet service  \n",
              "\n",
              "[1520 rows x 20 columns]"
            ],
            "text/html": [
              "\n",
              "  <div id=\"df-1bc389a6-ca75-4766-b8c3-0ed774431c57\">\n",
              "    <div class=\"colab-df-container\">\n",
              "      <div>\n",
              "<style scoped>\n",
              "    .dataframe tbody tr th:only-of-type {\n",
              "        vertical-align: middle;\n",
              "    }\n",
              "\n",
              "    .dataframe tbody tr th {\n",
              "        vertical-align: top;\n",
              "    }\n",
              "\n",
              "    .dataframe thead th {\n",
              "        text-align: right;\n",
              "    }\n",
              "</style>\n",
              "<table border=\"1\" class=\"dataframe\">\n",
              "  <thead>\n",
              "    <tr style=\"text-align: right;\">\n",
              "      <th></th>\n",
              "      <th>tenure</th>\n",
              "      <th>PhoneService</th>\n",
              "      <th>Contract</th>\n",
              "      <th>PaperlessBilling</th>\n",
              "      <th>PaymentMethod</th>\n",
              "      <th>MonthlyCharges</th>\n",
              "      <th>TotalCharges</th>\n",
              "      <th>Churn</th>\n",
              "      <th>gender</th>\n",
              "      <th>SeniorCitizen</th>\n",
              "      <th>Partner</th>\n",
              "      <th>Dependents</th>\n",
              "      <th>MultipleLines</th>\n",
              "      <th>InternetService</th>\n",
              "      <th>OnlineSecurity</th>\n",
              "      <th>OnlineBackup</th>\n",
              "      <th>DeviceProtection</th>\n",
              "      <th>TechSupport</th>\n",
              "      <th>StreamingTV</th>\n",
              "      <th>StreamingMovies</th>\n",
              "    </tr>\n",
              "  </thead>\n",
              "  <tbody>\n",
              "    <tr>\n",
              "      <th>11</th>\n",
              "      <td>16</td>\n",
              "      <td>Yes</td>\n",
              "      <td>Two year</td>\n",
              "      <td>No</td>\n",
              "      <td>Credit card</td>\n",
              "      <td>18.95</td>\n",
              "      <td>326.80</td>\n",
              "      <td>No</td>\n",
              "      <td>Male</td>\n",
              "      <td>0</td>\n",
              "      <td>No</td>\n",
              "      <td>No</td>\n",
              "      <td>No</td>\n",
              "      <td>No</td>\n",
              "      <td>No internet service</td>\n",
              "      <td>No internet service</td>\n",
              "      <td>No internet service</td>\n",
              "      <td>No internet service</td>\n",
              "      <td>No internet service</td>\n",
              "      <td>No internet service</td>\n",
              "    </tr>\n",
              "    <tr>\n",
              "      <th>16</th>\n",
              "      <td>52</td>\n",
              "      <td>Yes</td>\n",
              "      <td>One year</td>\n",
              "      <td>No</td>\n",
              "      <td>Mailed check</td>\n",
              "      <td>20.65</td>\n",
              "      <td>1022.95</td>\n",
              "      <td>No</td>\n",
              "      <td>Female</td>\n",
              "      <td>0</td>\n",
              "      <td>No</td>\n",
              "      <td>No</td>\n",
              "      <td>No</td>\n",
              "      <td>No</td>\n",
              "      <td>No internet service</td>\n",
              "      <td>No internet service</td>\n",
              "      <td>No internet service</td>\n",
              "      <td>No internet service</td>\n",
              "      <td>No internet service</td>\n",
              "      <td>No internet service</td>\n",
              "    </tr>\n",
              "    <tr>\n",
              "      <th>21</th>\n",
              "      <td>12</td>\n",
              "      <td>Yes</td>\n",
              "      <td>One year</td>\n",
              "      <td>No</td>\n",
              "      <td>Bank transfer</td>\n",
              "      <td>19.80</td>\n",
              "      <td>202.25</td>\n",
              "      <td>No</td>\n",
              "      <td>Male</td>\n",
              "      <td>0</td>\n",
              "      <td>Yes</td>\n",
              "      <td>No</td>\n",
              "      <td>No</td>\n",
              "      <td>No</td>\n",
              "      <td>No internet service</td>\n",
              "      <td>No internet service</td>\n",
              "      <td>No internet service</td>\n",
              "      <td>No internet service</td>\n",
              "      <td>No internet service</td>\n",
              "      <td>No internet service</td>\n",
              "    </tr>\n",
              "    <tr>\n",
              "      <th>22</th>\n",
              "      <td>1</td>\n",
              "      <td>Yes</td>\n",
              "      <td>Month-to-month</td>\n",
              "      <td>No</td>\n",
              "      <td>Mailed check</td>\n",
              "      <td>20.15</td>\n",
              "      <td>20.15</td>\n",
              "      <td>Yes</td>\n",
              "      <td>Male</td>\n",
              "      <td>0</td>\n",
              "      <td>No</td>\n",
              "      <td>No</td>\n",
              "      <td>No</td>\n",
              "      <td>No</td>\n",
              "      <td>No internet service</td>\n",
              "      <td>No internet service</td>\n",
              "      <td>No internet service</td>\n",
              "      <td>No internet service</td>\n",
              "      <td>No internet service</td>\n",
              "      <td>No internet service</td>\n",
              "    </tr>\n",
              "    <tr>\n",
              "      <th>33</th>\n",
              "      <td>1</td>\n",
              "      <td>Yes</td>\n",
              "      <td>Month-to-month</td>\n",
              "      <td>No</td>\n",
              "      <td>Bank transfer</td>\n",
              "      <td>20.20</td>\n",
              "      <td>20.20</td>\n",
              "      <td>No</td>\n",
              "      <td>Male</td>\n",
              "      <td>0</td>\n",
              "      <td>No</td>\n",
              "      <td>No</td>\n",
              "      <td>No</td>\n",
              "      <td>No</td>\n",
              "      <td>No internet service</td>\n",
              "      <td>No internet service</td>\n",
              "      <td>No internet service</td>\n",
              "      <td>No internet service</td>\n",
              "      <td>No internet service</td>\n",
              "      <td>No internet service</td>\n",
              "    </tr>\n",
              "    <tr>\n",
              "      <th>...</th>\n",
              "      <td>...</td>\n",
              "      <td>...</td>\n",
              "      <td>...</td>\n",
              "      <td>...</td>\n",
              "      <td>...</td>\n",
              "      <td>...</td>\n",
              "      <td>...</td>\n",
              "      <td>...</td>\n",
              "      <td>...</td>\n",
              "      <td>...</td>\n",
              "      <td>...</td>\n",
              "      <td>...</td>\n",
              "      <td>...</td>\n",
              "      <td>...</td>\n",
              "      <td>...</td>\n",
              "      <td>...</td>\n",
              "      <td>...</td>\n",
              "      <td>...</td>\n",
              "      <td>...</td>\n",
              "      <td>...</td>\n",
              "    </tr>\n",
              "    <tr>\n",
              "      <th>7017</th>\n",
              "      <td>51</td>\n",
              "      <td>Yes</td>\n",
              "      <td>Two year</td>\n",
              "      <td>No</td>\n",
              "      <td>Bank transfer</td>\n",
              "      <td>20.65</td>\n",
              "      <td>1020.75</td>\n",
              "      <td>No</td>\n",
              "      <td>Female</td>\n",
              "      <td>0</td>\n",
              "      <td>No</td>\n",
              "      <td>No</td>\n",
              "      <td>No</td>\n",
              "      <td>No</td>\n",
              "      <td>No internet service</td>\n",
              "      <td>No internet service</td>\n",
              "      <td>No internet service</td>\n",
              "      <td>No internet service</td>\n",
              "      <td>No internet service</td>\n",
              "      <td>No internet service</td>\n",
              "    </tr>\n",
              "    <tr>\n",
              "      <th>7019</th>\n",
              "      <td>39</td>\n",
              "      <td>Yes</td>\n",
              "      <td>Two year</td>\n",
              "      <td>No</td>\n",
              "      <td>Mailed check</td>\n",
              "      <td>20.15</td>\n",
              "      <td>826.00</td>\n",
              "      <td>No</td>\n",
              "      <td>Female</td>\n",
              "      <td>0</td>\n",
              "      <td>No</td>\n",
              "      <td>No</td>\n",
              "      <td>No</td>\n",
              "      <td>No</td>\n",
              "      <td>No internet service</td>\n",
              "      <td>No internet service</td>\n",
              "      <td>No internet service</td>\n",
              "      <td>No internet service</td>\n",
              "      <td>No internet service</td>\n",
              "      <td>No internet service</td>\n",
              "    </tr>\n",
              "    <tr>\n",
              "      <th>7020</th>\n",
              "      <td>12</td>\n",
              "      <td>Yes</td>\n",
              "      <td>Month-to-month</td>\n",
              "      <td>Yes</td>\n",
              "      <td>Electronic check</td>\n",
              "      <td>19.20</td>\n",
              "      <td>239.00</td>\n",
              "      <td>No</td>\n",
              "      <td>Male</td>\n",
              "      <td>0</td>\n",
              "      <td>Yes</td>\n",
              "      <td>Yes</td>\n",
              "      <td>No</td>\n",
              "      <td>No</td>\n",
              "      <td>No internet service</td>\n",
              "      <td>No internet service</td>\n",
              "      <td>No internet service</td>\n",
              "      <td>No internet service</td>\n",
              "      <td>No internet service</td>\n",
              "      <td>No internet service</td>\n",
              "    </tr>\n",
              "    <tr>\n",
              "      <th>7030</th>\n",
              "      <td>2</td>\n",
              "      <td>Yes</td>\n",
              "      <td>Month-to-month</td>\n",
              "      <td>Yes</td>\n",
              "      <td>Mailed check</td>\n",
              "      <td>20.05</td>\n",
              "      <td>39.25</td>\n",
              "      <td>No</td>\n",
              "      <td>Female</td>\n",
              "      <td>0</td>\n",
              "      <td>No</td>\n",
              "      <td>No</td>\n",
              "      <td>No</td>\n",
              "      <td>No</td>\n",
              "      <td>No internet service</td>\n",
              "      <td>No internet service</td>\n",
              "      <td>No internet service</td>\n",
              "      <td>No internet service</td>\n",
              "      <td>No internet service</td>\n",
              "      <td>No internet service</td>\n",
              "    </tr>\n",
              "    <tr>\n",
              "      <th>7037</th>\n",
              "      <td>72</td>\n",
              "      <td>Yes</td>\n",
              "      <td>Two year</td>\n",
              "      <td>Yes</td>\n",
              "      <td>Bank transfer</td>\n",
              "      <td>21.15</td>\n",
              "      <td>1419.40</td>\n",
              "      <td>No</td>\n",
              "      <td>Female</td>\n",
              "      <td>0</td>\n",
              "      <td>No</td>\n",
              "      <td>No</td>\n",
              "      <td>No</td>\n",
              "      <td>No</td>\n",
              "      <td>No internet service</td>\n",
              "      <td>No internet service</td>\n",
              "      <td>No internet service</td>\n",
              "      <td>No internet service</td>\n",
              "      <td>No internet service</td>\n",
              "      <td>No internet service</td>\n",
              "    </tr>\n",
              "  </tbody>\n",
              "</table>\n",
              "<p>1520 rows × 20 columns</p>\n",
              "</div>\n",
              "      <button class=\"colab-df-convert\" onclick=\"convertToInteractive('df-1bc389a6-ca75-4766-b8c3-0ed774431c57')\"\n",
              "              title=\"Convert this dataframe to an interactive table.\"\n",
              "              style=\"display:none;\">\n",
              "        \n",
              "  <svg xmlns=\"http://www.w3.org/2000/svg\" height=\"24px\"viewBox=\"0 0 24 24\"\n",
              "       width=\"24px\">\n",
              "    <path d=\"M0 0h24v24H0V0z\" fill=\"none\"/>\n",
              "    <path d=\"M18.56 5.44l.94 2.06.94-2.06 2.06-.94-2.06-.94-.94-2.06-.94 2.06-2.06.94zm-11 1L8.5 8.5l.94-2.06 2.06-.94-2.06-.94L8.5 2.5l-.94 2.06-2.06.94zm10 10l.94 2.06.94-2.06 2.06-.94-2.06-.94-.94-2.06-.94 2.06-2.06.94z\"/><path d=\"M17.41 7.96l-1.37-1.37c-.4-.4-.92-.59-1.43-.59-.52 0-1.04.2-1.43.59L10.3 9.45l-7.72 7.72c-.78.78-.78 2.05 0 2.83L4 21.41c.39.39.9.59 1.41.59.51 0 1.02-.2 1.41-.59l7.78-7.78 2.81-2.81c.8-.78.8-2.07 0-2.86zM5.41 20L4 18.59l7.72-7.72 1.47 1.35L5.41 20z\"/>\n",
              "  </svg>\n",
              "      </button>\n",
              "      \n",
              "  <style>\n",
              "    .colab-df-container {\n",
              "      display:flex;\n",
              "      flex-wrap:wrap;\n",
              "      gap: 12px;\n",
              "    }\n",
              "\n",
              "    .colab-df-convert {\n",
              "      background-color: #E8F0FE;\n",
              "      border: none;\n",
              "      border-radius: 50%;\n",
              "      cursor: pointer;\n",
              "      display: none;\n",
              "      fill: #1967D2;\n",
              "      height: 32px;\n",
              "      padding: 0 0 0 0;\n",
              "      width: 32px;\n",
              "    }\n",
              "\n",
              "    .colab-df-convert:hover {\n",
              "      background-color: #E2EBFA;\n",
              "      box-shadow: 0px 1px 2px rgba(60, 64, 67, 0.3), 0px 1px 3px 1px rgba(60, 64, 67, 0.15);\n",
              "      fill: #174EA6;\n",
              "    }\n",
              "\n",
              "    [theme=dark] .colab-df-convert {\n",
              "      background-color: #3B4455;\n",
              "      fill: #D2E3FC;\n",
              "    }\n",
              "\n",
              "    [theme=dark] .colab-df-convert:hover {\n",
              "      background-color: #434B5C;\n",
              "      box-shadow: 0px 1px 3px 1px rgba(0, 0, 0, 0.15);\n",
              "      filter: drop-shadow(0px 1px 2px rgba(0, 0, 0, 0.3));\n",
              "      fill: #FFFFFF;\n",
              "    }\n",
              "  </style>\n",
              "\n",
              "      <script>\n",
              "        const buttonEl =\n",
              "          document.querySelector('#df-1bc389a6-ca75-4766-b8c3-0ed774431c57 button.colab-df-convert');\n",
              "        buttonEl.style.display =\n",
              "          google.colab.kernel.accessAllowed ? 'block' : 'none';\n",
              "\n",
              "        async function convertToInteractive(key) {\n",
              "          const element = document.querySelector('#df-1bc389a6-ca75-4766-b8c3-0ed774431c57');\n",
              "          const dataTable =\n",
              "            await google.colab.kernel.invokeFunction('convertToInteractive',\n",
              "                                                     [key], {});\n",
              "          if (!dataTable) return;\n",
              "\n",
              "          const docLinkHtml = 'Like what you see? Visit the ' +\n",
              "            '<a target=\"_blank\" href=https://colab.research.google.com/notebooks/data_table.ipynb>data table notebook</a>'\n",
              "            + ' to learn more about interactive tables.';\n",
              "          element.innerHTML = '';\n",
              "          dataTable['output_type'] = 'display_data';\n",
              "          await google.colab.output.renderOutput(dataTable, element);\n",
              "          const docLink = document.createElement('div');\n",
              "          docLink.innerHTML = docLinkHtml;\n",
              "          element.appendChild(docLink);\n",
              "        }\n",
              "      </script>\n",
              "    </div>\n",
              "  </div>\n",
              "  "
            ]
          },
          "metadata": {},
          "execution_count": 91
        }
      ]
    },
    {
      "cell_type": "code",
      "source": [
        "abc['OnlineSecurity'].value_counts()"
      ],
      "metadata": {
        "colab": {
          "base_uri": "https://localhost:8080/"
        },
        "id": "Zq4BiVi6dXVR",
        "outputId": "10728b9f-cf08-46a0-e879-662f28f3473c"
      },
      "execution_count": null,
      "outputs": [
        {
          "output_type": "execute_result",
          "data": {
            "text/plain": [
              "No internet service    1520\n",
              "Name: OnlineSecurity, dtype: int64"
            ]
          },
          "metadata": {},
          "execution_count": 96
        }
      ]
    },
    {
      "cell_type": "code",
      "source": [
        "abc['OnlineBackup'].value_counts()"
      ],
      "metadata": {
        "colab": {
          "base_uri": "https://localhost:8080/"
        },
        "id": "sEKx6DgMdXYU",
        "outputId": "54485a94-6a37-44e5-d4cf-5bd51371a4a1"
      },
      "execution_count": null,
      "outputs": [
        {
          "output_type": "execute_result",
          "data": {
            "text/plain": [
              "No internet service    1520\n",
              "Name: OnlineBackup, dtype: int64"
            ]
          },
          "metadata": {},
          "execution_count": 97
        }
      ]
    },
    {
      "cell_type": "code",
      "source": [
        "abc['DeviceProtection'].value_counts()"
      ],
      "metadata": {
        "colab": {
          "base_uri": "https://localhost:8080/"
        },
        "id": "pWo3rhQvdXba",
        "outputId": "3931ff15-3cc1-4542-da92-0a9710180412"
      },
      "execution_count": null,
      "outputs": [
        {
          "output_type": "execute_result",
          "data": {
            "text/plain": [
              "No internet service    1520\n",
              "Name: DeviceProtection, dtype: int64"
            ]
          },
          "metadata": {},
          "execution_count": 98
        }
      ]
    },
    {
      "cell_type": "code",
      "source": [
        "abc['TechSupport'].value_counts()"
      ],
      "metadata": {
        "colab": {
          "base_uri": "https://localhost:8080/"
        },
        "id": "LcOkTHv-dXdw",
        "outputId": "f1de4fb2-a720-44f9-b681-58f03a9668c7"
      },
      "execution_count": null,
      "outputs": [
        {
          "output_type": "execute_result",
          "data": {
            "text/plain": [
              "No internet service    1520\n",
              "Name: TechSupport, dtype: int64"
            ]
          },
          "metadata": {},
          "execution_count": 99
        }
      ]
    },
    {
      "cell_type": "code",
      "source": [
        "abc['StreamingTV'].value_counts()"
      ],
      "metadata": {
        "colab": {
          "base_uri": "https://localhost:8080/"
        },
        "id": "NHQc_EwddXgV",
        "outputId": "c2c7fd0a-041d-44fe-d7ac-f50eb647734d"
      },
      "execution_count": null,
      "outputs": [
        {
          "output_type": "execute_result",
          "data": {
            "text/plain": [
              "No internet service    1520\n",
              "Name: StreamingTV, dtype: int64"
            ]
          },
          "metadata": {},
          "execution_count": 100
        }
      ]
    },
    {
      "cell_type": "code",
      "source": [
        "abc['StreamingMovies'].value_counts()"
      ],
      "metadata": {
        "colab": {
          "base_uri": "https://localhost:8080/"
        },
        "id": "1WwT8i23dXjZ",
        "outputId": "162430ed-cc4f-4df2-cb74-3d66adae1773"
      },
      "execution_count": null,
      "outputs": [
        {
          "output_type": "execute_result",
          "data": {
            "text/plain": [
              "No internet service    1520\n",
              "Name: StreamingMovies, dtype: int64"
            ]
          },
          "metadata": {},
          "execution_count": 101
        }
      ]
    },
    {
      "cell_type": "code",
      "source": [
        "abc['InternetService'].value_counts()"
      ],
      "metadata": {
        "colab": {
          "base_uri": "https://localhost:8080/"
        },
        "id": "iOPUyzMcdXmC",
        "outputId": "9d8c55cb-2de5-4d20-fbf6-5fc91454db63"
      },
      "execution_count": null,
      "outputs": [
        {
          "output_type": "execute_result",
          "data": {
            "text/plain": [
              "No    1520\n",
              "Name: InternetService, dtype: int64"
            ]
          },
          "metadata": {},
          "execution_count": 102
        }
      ]
    },
    {
      "cell_type": "code",
      "source": [
        "merged_df1['MultipleLines'].value_counts()"
      ],
      "metadata": {
        "colab": {
          "base_uri": "https://localhost:8080/"
        },
        "id": "FN1etNmzCSWH",
        "outputId": "370368ab-0453-4a34-b975-d2c6d49e4ac7"
      },
      "execution_count": null,
      "outputs": [
        {
          "output_type": "execute_result",
          "data": {
            "text/plain": [
              "No                  3385\n",
              "Yes                 2967\n",
              "No phone service     680\n",
              "Name: MultipleLines, dtype: int64"
            ]
          },
          "metadata": {},
          "execution_count": 103
        }
      ]
    },
    {
      "cell_type": "code",
      "source": [
        "merged_df1['PhoneService'].value_counts()"
      ],
      "metadata": {
        "colab": {
          "base_uri": "https://localhost:8080/"
        },
        "id": "LBep5ZnnCbfb",
        "outputId": "e4ebeccc-6c9b-461d-a346-161eedff6ad6"
      },
      "execution_count": null,
      "outputs": [
        {
          "output_type": "execute_result",
          "data": {
            "text/plain": [
              "Yes    6352\n",
              "No      680\n",
              "Name: PhoneService, dtype: int64"
            ]
          },
          "metadata": {},
          "execution_count": 104
        }
      ]
    },
    {
      "cell_type": "code",
      "source": [
        "merged_df1['OnlineSecurity'] = merged_df1['OnlineSecurity'].replace({'No internet service' : 'No'})\n",
        "merged_df1['OnlineBackup'] = merged_df1['OnlineBackup'].replace({'No internet service' : 'No'})\n",
        "merged_df1['DeviceProtection'] = merged_df1['DeviceProtection'].replace({'No internet service' : 'No'})\n",
        "merged_df1['TechSupport'] = merged_df1['TechSupport'].replace({'No internet service' : 'No'})\n",
        "merged_df1['StreamingTV'] = merged_df1['StreamingTV'].replace({'No internet service' : 'No'})\n",
        "merged_df1['StreamingMovies'] = merged_df1['StreamingMovies'].replace({'No internet service' : 'No'})\n",
        "merged_df1['MultipleLines'] = merged_df1['MultipleLines'].replace({'No phone service' : 'No'})"
      ],
      "metadata": {
        "id": "fQY2BW_kdXon"
      },
      "execution_count": null,
      "outputs": []
    },
    {
      "cell_type": "code",
      "source": [
        "print(merged_df1['OnlineSecurity'].unique())\n",
        "print(merged_df1['OnlineBackup'].unique())\n",
        "print(merged_df1['DeviceProtection'].unique())\n",
        "print(merged_df1['TechSupport'].unique())\n",
        "print(merged_df1['StreamingTV'].unique())\n",
        "print(merged_df1['StreamingMovies'].unique())\n",
        "print(merged_df1['MultipleLines'].unique())"
      ],
      "metadata": {
        "colab": {
          "base_uri": "https://localhost:8080/"
        },
        "id": "xK75oawYdXr4",
        "outputId": "19012657-16bd-4e17-e8af-93909df0f535"
      },
      "execution_count": null,
      "outputs": [
        {
          "output_type": "stream",
          "name": "stdout",
          "text": [
            "['No' 'Yes']\n",
            "['Yes' 'No']\n",
            "['No' 'Yes']\n",
            "['No' 'Yes']\n",
            "['No' 'Yes']\n",
            "['No' 'Yes']\n",
            "['No' 'Yes']\n"
          ]
        }
      ]
    },
    {
      "cell_type": "code",
      "source": [
        "def percentage_stacked_plot(columns_to_plot, plotting_title):\n",
        "    import math\n",
        "    number_of_columns = 2\n",
        "    number_of_rows = math.ceil(len(columns_to_plot)/2)\n",
        "\n",
        "\n",
        "    fig = plt.figure(figsize=(12, 5 * number_of_rows))\n",
        "    fig.suptitle(plotting_title, fontsize=22)\n",
        "\n",
        "    # loop to each column name to create a subplot\n",
        "    for index, column in enumerate(columns_to_plot, 1):   # \"enumerate\" to keep track of the number of iterations (loops) in a loop\n",
        "\n",
        "        # create the subplot\n",
        "        ax = fig.add_subplot(number_of_rows, number_of_columns, index)\n",
        "\n",
        "        props = pd.crosstab(merged_df1[column], merged_df1['Churn']).apply(lambda x: x/x.sum()*100, axis=1)\n",
        "\n",
        "        props.plot(kind='bar', ax=ax, stacked=True,\n",
        "                                 rot = 0, color=['springgreen','salmon'])\n",
        "\n",
        "\n",
        "services_columns = ['PhoneService', 'MultipleLines', 'InternetService', 'OnlineSecurity',\n",
        "                   'OnlineBackup', 'DeviceProtection', 'TechSupport', 'StreamingTV', 'StreamingMovies']\n",
        "\n",
        "# stacked plot of services columns\n",
        "percentage_stacked_plot(services_columns, 'Services Information')\n",
        "\n",
        "\n",
        "# PhoneService and MultipleLines to have significant predictive power.\n",
        "# The percentage of churn for all classes in both independent variables is nearly the same.\n",
        "# Customers with online security churn less than those without it.\n",
        "# Customers with no tech support tend to churn more often than those with tech support."
      ],
      "metadata": {
        "colab": {
          "base_uri": "https://localhost:8080/",
          "height": 1000
        },
        "id": "SrrR2auscamp",
        "outputId": "3e155231-900d-4887-949f-c0f41f00c6fb"
      },
      "execution_count": null,
      "outputs": [
        {
          "output_type": "display_data",
          "data": {
            "text/plain": [
              "<Figure size 1200x2500 with 9 Axes>"
            ],
            "image/png": "[encoded data removed]"
          },
          "metadata": {}
        }
      ]
    },
    {
      "cell_type": "code",
      "source": [
        "# Heat Map\n",
        "\n",
        "# Calculating the correlation matrix\n",
        "correlation_matrix = merged_df1.apply(lambda x: pd.factorize(x)[0]).corr()"
      ],
      "metadata": {
        "id": "LSL5efvQ3pVr"
      },
      "execution_count": null,
      "outputs": []
    },
    {
      "cell_type": "code",
      "source": [
        "# Plotting the correlation matrix as a heatmap\n",
        "plt.figure(figsize=(10, 8))\n",
        "sns.heatmap(correlation_matrix, annot=False, cmap='coolwarm')\n",
        "plt.title('Correlation Matrix')\n",
        "plt.show()"
      ],
      "metadata": {
        "colab": {
          "base_uri": "https://localhost:8080/",
          "height": 805
        },
        "id": "l4GEIg453pZ0",
        "outputId": "c92bfa22-be10-4f6e-e5a8-892d305aaefe"
      },
      "execution_count": null,
      "outputs": [
        {
          "output_type": "display_data",
          "data": {
            "text/plain": [
              "<Figure size 1000x800 with 2 Axes>"
            ],
            "image/png": "[encoded data removed]"
          },
          "metadata": {}
        }
      ]
    },
    {
      "cell_type": "code",
      "source": [
        "# (4) Feature importance\n",
        "\n",
        "# We are interested in evaluating the degree of dependency between each independent variable and the response variable.\n",
        "# Higher values of mutual information show a higher degree of dependency which indicates that the independent variable will be useful for predicting the target.\n",
        "\n",
        "# Computing mutual information\n",
        "from sklearn import metrics\n",
        "\n",
        "def compute_mutual_information(categorical_serie):\n",
        "    return metrics.mutual_info_score(categorical_serie, merged_df1.Churn)\n",
        "\n",
        "categorical_variables = merged_df1.select_dtypes(include=object).drop('Churn', axis=1)\n",
        "feature_importance = categorical_variables.apply(compute_mutual_information).sort_values(ascending=False)\n",
        "\n",
        "print(feature_importance)\n",
        "\n",
        "\n",
        "\n",
        "# As we can see that MultipleLines, PhoneService, gender are closely to zero, so these three features\n",
        "# have not the strong relationship with the target variable. so that if we want to drop these three features we can."
      ],
      "metadata": {
        "colab": {
          "base_uri": "https://localhost:8080/"
        },
        "id": "mSL0EFZDl2XZ",
        "outputId": "fc210674-b345-4ae7-9455-af9739fdd6aa"
      },
      "execution_count": null,
      "outputs": [
        {
          "output_type": "stream",
          "name": "stdout",
          "text": [
            "Contract            0.098182\n",
            "InternetService     0.055394\n",
            "PaymentMethod       0.044423\n",
            "PaperlessBilling    0.019119\n",
            "OnlineSecurity      0.015891\n",
            "TechSupport         0.014614\n",
            "Dependents          0.014270\n",
            "Partner             0.011383\n",
            "OnlineBackup        0.003464\n",
            "DeviceProtection    0.002230\n",
            "StreamingTV         0.001983\n",
            "StreamingMovies     0.001837\n",
            "MultipleLines       0.000798\n",
            "PhoneService        0.000069\n",
            "gender              0.000037\n",
            "dtype: float64\n"
          ]
        }
      ]
    },
    {
      "cell_type": "code",
      "source": [
        "# (5) Feature Engineering\n",
        "\n",
        "from sklearn.preprocessing import LabelEncoder\n",
        "\n",
        "from sklearn.preprocessing import LabelEncoder\n",
        "LE = LabelEncoder()\n",
        "\n",
        "merged_df1[\"Churn\"] = LE.fit_transform(merged_df1[\"Churn\"])\n",
        "merged_df1[\"Partner\"] = LE.fit_transform(merged_df1[\"Partner\"])\n",
        "merged_df1[\"Dependents\"] = LE.fit_transform(merged_df1[\"Dependents\"])\n",
        "merged_df1[\"PaperlessBilling\"] = LE.fit_transform(merged_df1[\"PaperlessBilling\"])\n",
        "merged_df1[\"gender\"] = LE.fit_transform(merged_df1[\"gender\"])\n",
        "merged_df1[\"PhoneService\"] = LE.fit_transform(merged_df1[\"PhoneService\"])\n",
        "merged_df1[\"MultipleLines\"] = LE.fit_transform(merged_df1[\"MultipleLines\"])\n",
        "\n",
        "merged_df1.head()"
      ],
      "metadata": {
        "colab": {
          "base_uri": "https://localhost:8080/",
          "height": 322
        },
        "id": "LvkYSd9sfMtl",
        "outputId": "aeb8aaea-752a-4fad-b41d-a85537986eec"
      },
      "execution_count": null,
      "outputs": [
        {
          "output_type": "execute_result",
          "data": {
            "text/plain": [
              "   tenure  PhoneService        Contract  PaperlessBilling     PaymentMethod  \\\n",
              "0       1             0  Month-to-month                 1  Electronic check   \n",
              "1      34             1        One year                 0      Mailed check   \n",
              "2       2             1  Month-to-month                 1      Mailed check   \n",
              "3      45             0        One year                 0     Bank transfer   \n",
              "4       2             1  Month-to-month                 1  Electronic check   \n",
              "\n",
              "   MonthlyCharges  TotalCharges  Churn  gender  SeniorCitizen  Partner  \\\n",
              "0           29.85         29.85      0       0              0        1   \n",
              "1           56.95       1889.50      0       1              0        0   \n",
              "2           53.85        108.15      1       1              0        0   \n",
              "3           42.30       1840.75      0       1              0        0   \n",
              "4           70.70        151.65      1       0              0        0   \n",
              "\n",
              "   Dependents  MultipleLines InternetService OnlineSecurity OnlineBackup  \\\n",
              "0           0              0             DSL             No          Yes   \n",
              "1           0              0             DSL            Yes           No   \n",
              "2           0              0             DSL            Yes          Yes   \n",
              "3           0              0             DSL            Yes           No   \n",
              "4           0              0     Fiber optic             No           No   \n",
              "\n",
              "  DeviceProtection TechSupport StreamingTV StreamingMovies  \n",
              "0               No          No          No              No  \n",
              "1              Yes          No          No              No  \n",
              "2               No          No          No              No  \n",
              "3              Yes         Yes          No              No  \n",
              "4               No          No          No              No  "
            ],
            "text/html": [
              "\n",
              "  <div id=\"df-bd617017-14f2-4957-88ef-ceb17f9afedc\">\n",
              "    <div class=\"colab-df-container\">\n",
              "      <div>\n",
              "<style scoped>\n",
              "    .dataframe tbody tr th:only-of-type {\n",
              "        vertical-align: middle;\n",
              "    }\n",
              "\n",
              "    .dataframe tbody tr th {\n",
              "        vertical-align: top;\n",
              "    }\n",
              "\n",
              "    .dataframe thead th {\n",
              "        text-align: right;\n",
              "    }\n",
              "</style>\n",
              "<table border=\"1\" class=\"dataframe\">\n",
              "  <thead>\n",
              "    <tr style=\"text-align: right;\">\n",
              "      <th></th>\n",
              "      <th>tenure</th>\n",
              "      <th>PhoneService</th>\n",
              "      <th>Contract</th>\n",
              "      <th>PaperlessBilling</th>\n",
              "      <th>PaymentMethod</th>\n",
              "      <th>MonthlyCharges</th>\n",
              "      <th>TotalCharges</th>\n",
              "      <th>Churn</th>\n",
              "      <th>gender</th>\n",
              "      <th>SeniorCitizen</th>\n",
              "      <th>Partner</th>\n",
              "      <th>Dependents</th>\n",
              "      <th>MultipleLines</th>\n",
              "      <th>InternetService</th>\n",
              "      <th>OnlineSecurity</th>\n",
              "      <th>OnlineBackup</th>\n",
              "      <th>DeviceProtection</th>\n",
              "      <th>TechSupport</th>\n",
              "      <th>StreamingTV</th>\n",
              "      <th>StreamingMovies</th>\n",
              "    </tr>\n",
              "  </thead>\n",
              "  <tbody>\n",
              "    <tr>\n",
              "      <th>0</th>\n",
              "      <td>1</td>\n",
              "      <td>0</td>\n",
              "      <td>Month-to-month</td>\n",
              "      <td>1</td>\n",
              "      <td>Electronic check</td>\n",
              "      <td>29.85</td>\n",
              "      <td>29.85</td>\n",
              "      <td>0</td>\n",
              "      <td>0</td>\n",
              "      <td>0</td>\n",
              "      <td>1</td>\n",
              "      <td>0</td>\n",
              "      <td>0</td>\n",
              "      <td>DSL</td>\n",
              "      <td>No</td>\n",
              "      <td>Yes</td>\n",
              "      <td>No</td>\n",
              "      <td>No</td>\n",
              "      <td>No</td>\n",
              "      <td>No</td>\n",
              "    </tr>\n",
              "    <tr>\n",
              "      <th>1</th>\n",
              "      <td>34</td>\n",
              "      <td>1</td>\n",
              "      <td>One year</td>\n",
              "      <td>0</td>\n",
              "      <td>Mailed check</td>\n",
              "      <td>56.95</td>\n",
              "      <td>1889.50</td>\n",
              "      <td>0</td>\n",
              "      <td>1</td>\n",
              "      <td>0</td>\n",
              "      <td>0</td>\n",
              "      <td>0</td>\n",
              "      <td>0</td>\n",
              "      <td>DSL</td>\n",
              "      <td>Yes</td>\n",
              "      <td>No</td>\n",
              "      <td>Yes</td>\n",
              "      <td>No</td>\n",
              "      <td>No</td>\n",
              "      <td>No</td>\n",
              "    </tr>\n",
              "    <tr>\n",
              "      <th>2</th>\n",
              "      <td>2</td>\n",
              "      <td>1</td>\n",
              "      <td>Month-to-month</td>\n",
              "      <td>1</td>\n",
              "      <td>Mailed check</td>\n",
              "      <td>53.85</td>\n",
              "      <td>108.15</td>\n",
              "      <td>1</td>\n",
              "      <td>1</td>\n",
              "      <td>0</td>\n",
              "      <td>0</td>\n",
              "      <td>0</td>\n",
              "      <td>0</td>\n",
              "      <td>DSL</td>\n",
              "      <td>Yes</td>\n",
              "      <td>Yes</td>\n",
              "      <td>No</td>\n",
              "      <td>No</td>\n",
              "      <td>No</td>\n",
              "      <td>No</td>\n",
              "    </tr>\n",
              "    <tr>\n",
              "      <th>3</th>\n",
              "      <td>45</td>\n",
              "      <td>0</td>\n",
              "      <td>One year</td>\n",
              "      <td>0</td>\n",
              "      <td>Bank transfer</td>\n",
              "      <td>42.30</td>\n",
              "      <td>1840.75</td>\n",
              "      <td>0</td>\n",
              "      <td>1</td>\n",
              "      <td>0</td>\n",
              "      <td>0</td>\n",
              "      <td>0</td>\n",
              "      <td>0</td>\n",
              "      <td>DSL</td>\n",
              "      <td>Yes</td>\n",
              "      <td>No</td>\n",
              "      <td>Yes</td>\n",
              "      <td>Yes</td>\n",
              "      <td>No</td>\n",
              "      <td>No</td>\n",
              "    </tr>\n",
              "    <tr>\n",
              "      <th>4</th>\n",
              "      <td>2</td>\n",
              "      <td>1</td>\n",
              "      <td>Month-to-month</td>\n",
              "      <td>1</td>\n",
              "      <td>Electronic check</td>\n",
              "      <td>70.70</td>\n",
              "      <td>151.65</td>\n",
              "      <td>1</td>\n",
              "      <td>0</td>\n",
              "      <td>0</td>\n",
              "      <td>0</td>\n",
              "      <td>0</td>\n",
              "      <td>0</td>\n",
              "      <td>Fiber optic</td>\n",
              "      <td>No</td>\n",
              "      <td>No</td>\n",
              "      <td>No</td>\n",
              "      <td>No</td>\n",
              "      <td>No</td>\n",
              "      <td>No</td>\n",
              "    </tr>\n",
              "  </tbody>\n",
              "</table>\n",
              "</div>\n",
              "      <button class=\"colab-df-convert\" onclick=\"convertToInteractive('df-bd617017-14f2-4957-88ef-ceb17f9afedc')\"\n",
              "              title=\"Convert this dataframe to an interactive table.\"\n",
              "              style=\"display:none;\">\n",
              "        \n",
              "  <svg xmlns=\"http://www.w3.org/2000/svg\" height=\"24px\"viewBox=\"0 0 24 24\"\n",
              "       width=\"24px\">\n",
              "    <path d=\"M0 0h24v24H0V0z\" fill=\"none\"/>\n",
              "    <path d=\"M18.56 5.44l.94 2.06.94-2.06 2.06-.94-2.06-.94-.94-2.06-.94 2.06-2.06.94zm-11 1L8.5 8.5l.94-2.06 2.06-.94-2.06-.94L8.5 2.5l-.94 2.06-2.06.94zm10 10l.94 2.06.94-2.06 2.06-.94-2.06-.94-.94-2.06-.94 2.06-2.06.94z\"/><path d=\"M17.41 7.96l-1.37-1.37c-.4-.4-.92-.59-1.43-.59-.52 0-1.04.2-1.43.59L10.3 9.45l-7.72 7.72c-.78.78-.78 2.05 0 2.83L4 21.41c.39.39.9.59 1.41.59.51 0 1.02-.2 1.41-.59l7.78-7.78 2.81-2.81c.8-.78.8-2.07 0-2.86zM5.41 20L4 18.59l7.72-7.72 1.47 1.35L5.41 20z\"/>\n",
              "  </svg>\n",
              "      </button>\n",
              "      \n",
              "  <style>\n",
              "    .colab-df-container {\n",
              "      display:flex;\n",
              "      flex-wrap:wrap;\n",
              "      gap: 12px;\n",
              "    }\n",
              "\n",
              "    .colab-df-convert {\n",
              "      background-color: #E8F0FE;\n",
              "      border: none;\n",
              "      border-radius: 50%;\n",
              "      cursor: pointer;\n",
              "      display: none;\n",
              "      fill: #1967D2;\n",
              "      height: 32px;\n",
              "      padding: 0 0 0 0;\n",
              "      width: 32px;\n",
              "    }\n",
              "\n",
              "    .colab-df-convert:hover {\n",
              "      background-color: #E2EBFA;\n",
              "      box-shadow: 0px 1px 2px rgba(60, 64, 67, 0.3), 0px 1px 3px 1px rgba(60, 64, 67, 0.15);\n",
              "      fill: #174EA6;\n",
              "    }\n",
              "\n",
              "    [theme=dark] .colab-df-convert {\n",
              "      background-color: #3B4455;\n",
              "      fill: #D2E3FC;\n",
              "    }\n",
              "\n",
              "    [theme=dark] .colab-df-convert:hover {\n",
              "      background-color: #434B5C;\n",
              "      box-shadow: 0px 1px 3px 1px rgba(0, 0, 0, 0.15);\n",
              "      filter: drop-shadow(0px 1px 2px rgba(0, 0, 0, 0.3));\n",
              "      fill: #FFFFFF;\n",
              "    }\n",
              "  </style>\n",
              "\n",
              "      <script>\n",
              "        const buttonEl =\n",
              "          document.querySelector('#df-bd617017-14f2-4957-88ef-ceb17f9afedc button.colab-df-convert');\n",
              "        buttonEl.style.display =\n",
              "          google.colab.kernel.accessAllowed ? 'block' : 'none';\n",
              "\n",
              "        async function convertToInteractive(key) {\n",
              "          const element = document.querySelector('#df-bd617017-14f2-4957-88ef-ceb17f9afedc');\n",
              "          const dataTable =\n",
              "            await google.colab.kernel.invokeFunction('convertToInteractive',\n",
              "                                                     [key], {});\n",
              "          if (!dataTable) return;\n",
              "\n",
              "          const docLinkHtml = 'Like what you see? Visit the ' +\n",
              "            '<a target=\"_blank\" href=https://colab.research.google.com/notebooks/data_table.ipynb>data table notebook</a>'\n",
              "            + ' to learn more about interactive tables.';\n",
              "          element.innerHTML = '';\n",
              "          dataTable['output_type'] = 'display_data';\n",
              "          await google.colab.output.renderOutput(dataTable, element);\n",
              "          const docLink = document.createElement('div');\n",
              "          docLink.innerHTML = docLinkHtml;\n",
              "          element.appendChild(docLink);\n",
              "        }\n",
              "      </script>\n",
              "    </div>\n",
              "  </div>\n",
              "  "
            ]
          },
          "metadata": {},
          "execution_count": 110
        }
      ]
    },
    {
      "cell_type": "code",
      "source": [
        "# One Hot Encoding\n",
        "one_hot_encoded_data = pd.get_dummies(merged_df1, columns = ['OnlineSecurity', 'OnlineBackup', 'DeviceProtection', 'TechSupport', 'StreamingTV',\n",
        "                                                             'StreamingMovies', 'Contract', 'PaymentMethod','InternetService'])\n",
        "print(one_hot_encoded_data)"
      ],
      "metadata": {
        "id": "a-KL3ozDgii1"
      },
      "execution_count": null,
      "outputs": []
    },
    {
      "cell_type": "code",
      "source": [
        "one_hot_encoded_data.columns"
      ],
      "metadata": {
        "colab": {
          "base_uri": "https://localhost:8080/"
        },
        "id": "pD8GdxlnDZZ7",
        "outputId": "5fa50e7c-b8eb-452d-c848-3237c5715a4d"
      },
      "execution_count": null,
      "outputs": [
        {
          "output_type": "execute_result",
          "data": {
            "text/plain": [
              "Index(['tenure', 'PhoneService', 'PaperlessBilling', 'MonthlyCharges',\n",
              "       'TotalCharges', 'Churn', 'gender', 'SeniorCitizen', 'Partner',\n",
              "       'Dependents', 'MultipleLines', 'OnlineSecurity_No',\n",
              "       'OnlineSecurity_Yes', 'OnlineBackup_No', 'OnlineBackup_Yes',\n",
              "       'DeviceProtection_No', 'DeviceProtection_Yes', 'TechSupport_No',\n",
              "       'TechSupport_Yes', 'StreamingTV_No', 'StreamingTV_Yes',\n",
              "       'StreamingMovies_No', 'StreamingMovies_Yes', 'Contract_Month-to-month',\n",
              "       'Contract_One year', 'Contract_Two year', 'PaymentMethod_Bank transfer',\n",
              "       'PaymentMethod_Credit card', 'PaymentMethod_Electronic check',\n",
              "       'PaymentMethod_Mailed check', 'InternetService_DSL',\n",
              "       'InternetService_Fiber optic', 'InternetService_No'],\n",
              "      dtype='object')"
            ]
          },
          "metadata": {},
          "execution_count": 113
        }
      ]
    },
    {
      "cell_type": "code",
      "source": [
        "# Data normalization transforms multiscaled data to the same scale. After normalization, all variables have a\n",
        "# similar influence on the model.\n",
        "\n",
        "min_max_columns = ['tenure', 'MonthlyCharges', 'TotalCharges']\n",
        "\n",
        "# scale numerical variables using min max scaler\n",
        "for column in min_max_columns:\n",
        "        # minimum value of the column\n",
        "        min_column = one_hot_encoded_data[column].min()\n",
        "        # maximum value of the column\n",
        "        max_column = one_hot_encoded_data[column].max()\n",
        "        # min max scaler\n",
        "        one_hot_encoded_data[column] = (one_hot_encoded_data[column] - min_column) / (max_column - min_column)\n",
        "\n",
        "\n",
        "print(one_hot_encoded_data.tenure)\n",
        "print(one_hot_encoded_data.MonthlyCharges)\n",
        "print(one_hot_encoded_data.TotalCharges)"
      ],
      "metadata": {
        "id": "Us5_Pel9U0jg",
        "colab": {
          "base_uri": "https://localhost:8080/"
        },
        "outputId": "fcd106bb-5da8-4207-fc9f-747cc2db08af"
      },
      "execution_count": null,
      "outputs": [
        {
          "output_type": "stream",
          "name": "stdout",
          "text": [
            "0       0.000000\n",
            "1       0.464789\n",
            "2       0.014085\n",
            "3       0.619718\n",
            "4       0.014085\n",
            "          ...   \n",
            "7038    0.323944\n",
            "7039    1.000000\n",
            "7040    0.140845\n",
            "7041    0.042254\n",
            "7042    0.915493\n",
            "Name: tenure, Length: 7032, dtype: float64\n",
            "0       0.115423\n",
            "1       0.385075\n",
            "2       0.354229\n",
            "3       0.239303\n",
            "4       0.521891\n",
            "          ...   \n",
            "7038    0.662189\n",
            "7039    0.845274\n",
            "7040    0.112935\n",
            "7041    0.558706\n",
            "7042    0.869652\n",
            "Name: MonthlyCharges, Length: 7032, dtype: float64\n",
            "0       0.001275\n",
            "1       0.215867\n",
            "2       0.010310\n",
            "3       0.210241\n",
            "4       0.015330\n",
            "          ...   \n",
            "7038    0.227521\n",
            "7039    0.847461\n",
            "7040    0.037809\n",
            "7041    0.033210\n",
            "7042    0.787641\n",
            "Name: TotalCharges, Length: 7032, dtype: float64\n"
          ]
        }
      ]
    },
    {
      "cell_type": "code",
      "source": [
        "# (6) Setting a baseline\n",
        "# In machine learning, we often use a simple classifier called baseline to evaluate the performance of a model.\n",
        "# In this classification problem, the rate of customers that did not churn can be used as a baseline to evaluate the quality of the models generated.\n",
        "# These models should perform the baseline capabilities to be considered for future predictions.\n"
      ],
      "metadata": {
        "id": "P0_zYiAAU0l_"
      },
      "execution_count": null,
      "outputs": []
    },
    {
      "cell_type": "code",
      "source": [
        "# (7) Splitting the data in training and testing sets\n",
        "\n",
        "X = one_hot_encoded_data.drop(columns='Churn')\n",
        "Y = one_hot_encoded_data.loc[:, 'Churn']\n",
        "print(X.columns)\n",
        "print(Y.name)\n",
        "one_hot_encoded_data\n"
      ],
      "metadata": {
        "id": "J6OK2DS0U0pD",
        "colab": {
          "base_uri": "https://localhost:8080/",
          "height": 730
        },
        "outputId": "5e0a6a7b-1bdb-4ad8-d699-e1b7ba4aaeeb"
      },
      "execution_count": null,
      "outputs": [
        {
          "output_type": "stream",
          "name": "stdout",
          "text": [
            "Index(['tenure', 'PhoneService', 'PaperlessBilling', 'MonthlyCharges',\n",
            "       'TotalCharges', 'gender', 'SeniorCitizen', 'Partner', 'Dependents',\n",
            "       'MultipleLines', 'OnlineSecurity_No', 'OnlineSecurity_Yes',\n",
            "       'OnlineBackup_No', 'OnlineBackup_Yes', 'DeviceProtection_No',\n",
            "       'DeviceProtection_Yes', 'TechSupport_No', 'TechSupport_Yes',\n",
            "       'StreamingTV_No', 'StreamingTV_Yes', 'StreamingMovies_No',\n",
            "       'StreamingMovies_Yes', 'Contract_Month-to-month', 'Contract_One year',\n",
            "       'Contract_Two year', 'PaymentMethod_Bank transfer',\n",
            "       'PaymentMethod_Credit card', 'PaymentMethod_Electronic check',\n",
            "       'PaymentMethod_Mailed check', 'InternetService_DSL',\n",
            "       'InternetService_Fiber optic', 'InternetService_No'],\n",
            "      dtype='object')\n",
            "Churn\n"
          ]
        },
        {
          "output_type": "execute_result",
          "data": {
            "text/plain": [
              "        tenure  PhoneService  PaperlessBilling  MonthlyCharges  TotalCharges  \\\n",
              "0     0.000000             0                 1        0.115423      0.001275   \n",
              "1     0.464789             1                 0        0.385075      0.215867   \n",
              "2     0.014085             1                 1        0.354229      0.010310   \n",
              "3     0.619718             0                 0        0.239303      0.210241   \n",
              "4     0.014085             1                 1        0.521891      0.015330   \n",
              "...        ...           ...               ...             ...           ...   \n",
              "7038  0.323944             1                 1        0.662189      0.227521   \n",
              "7039  1.000000             1                 1        0.845274      0.847461   \n",
              "7040  0.140845             0                 1        0.112935      0.037809   \n",
              "7041  0.042254             1                 1        0.558706      0.033210   \n",
              "7042  0.915493             1                 1        0.869652      0.787641   \n",
              "\n",
              "      Churn  gender  SeniorCitizen  Partner  Dependents  ...  \\\n",
              "0         0       0              0        1           0  ...   \n",
              "1         0       1              0        0           0  ...   \n",
              "2         1       1              0        0           0  ...   \n",
              "3         0       1              0        0           0  ...   \n",
              "4         1       0              0        0           0  ...   \n",
              "...     ...     ...            ...      ...         ...  ...   \n",
              "7038      0       1              0        1           1  ...   \n",
              "7039      0       0              0        1           1  ...   \n",
              "7040      0       0              0        1           1  ...   \n",
              "7041      1       1              1        1           0  ...   \n",
              "7042      0       1              0        0           0  ...   \n",
              "\n",
              "      Contract_Month-to-month  Contract_One year  Contract_Two year  \\\n",
              "0                           1                  0                  0   \n",
              "1                           0                  1                  0   \n",
              "2                           1                  0                  0   \n",
              "3                           0                  1                  0   \n",
              "4                           1                  0                  0   \n",
              "...                       ...                ...                ...   \n",
              "7038                        0                  1                  0   \n",
              "7039                        0                  1                  0   \n",
              "7040                        1                  0                  0   \n",
              "7041                        1                  0                  0   \n",
              "7042                        0                  0                  1   \n",
              "\n",
              "      PaymentMethod_Bank transfer  PaymentMethod_Credit card  \\\n",
              "0                               0                          0   \n",
              "1                               0                          0   \n",
              "2                               0                          0   \n",
              "3                               1                          0   \n",
              "4                               0                          0   \n",
              "...                           ...                        ...   \n",
              "7038                            0                          0   \n",
              "7039                            0                          1   \n",
              "7040                            0                          0   \n",
              "7041                            0                          0   \n",
              "7042                            1                          0   \n",
              "\n",
              "      PaymentMethod_Electronic check  PaymentMethod_Mailed check  \\\n",
              "0                                  1                           0   \n",
              "1                                  0                           1   \n",
              "2                                  0                           1   \n",
              "3                                  0                           0   \n",
              "4                                  1                           0   \n",
              "...                              ...                         ...   \n",
              "7038                               0                           1   \n",
              "7039                               0                           0   \n",
              "7040                               1                           0   \n",
              "7041                               0                           1   \n",
              "7042                               0                           0   \n",
              "\n",
              "      InternetService_DSL  InternetService_Fiber optic  InternetService_No  \n",
              "0                       1                            0                   0  \n",
              "1                       1                            0                   0  \n",
              "2                       1                            0                   0  \n",
              "3                       1                            0                   0  \n",
              "4                       0                            1                   0  \n",
              "...                   ...                          ...                 ...  \n",
              "7038                    1                            0                   0  \n",
              "7039                    0                            1                   0  \n",
              "7040                    1                            0                   0  \n",
              "7041                    0                            1                   0  \n",
              "7042                    0                            1                   0  \n",
              "\n",
              "[7032 rows x 33 columns]"
            ],
            "text/html": [
              "\n",
              "  <div id=\"df-7177fff6-eec3-4b0d-b18a-3973f41015f0\">\n",
              "    <div class=\"colab-df-container\">\n",
              "      <div>\n",
              "<style scoped>\n",
              "    .dataframe tbody tr th:only-of-type {\n",
              "        vertical-align: middle;\n",
              "    }\n",
              "\n",
              "    .dataframe tbody tr th {\n",
              "        vertical-align: top;\n",
              "    }\n",
              "\n",
              "    .dataframe thead th {\n",
              "        text-align: right;\n",
              "    }\n",
              "</style>\n",
              "<table border=\"1\" class=\"dataframe\">\n",
              "  <thead>\n",
              "    <tr style=\"text-align: right;\">\n",
              "      <th></th>\n",
              "      <th>tenure</th>\n",
              "      <th>PhoneService</th>\n",
              "      <th>PaperlessBilling</th>\n",
              "      <th>MonthlyCharges</th>\n",
              "      <th>TotalCharges</th>\n",
              "      <th>Churn</th>\n",
              "      <th>gender</th>\n",
              "      <th>SeniorCitizen</th>\n",
              "      <th>Partner</th>\n",
              "      <th>Dependents</th>\n",
              "      <th>...</th>\n",
              "      <th>Contract_Month-to-month</th>\n",
              "      <th>Contract_One year</th>\n",
              "      <th>Contract_Two year</th>\n",
              "      <th>PaymentMethod_Bank transfer</th>\n",
              "      <th>PaymentMethod_Credit card</th>\n",
              "      <th>PaymentMethod_Electronic check</th>\n",
              "      <th>PaymentMethod_Mailed check</th>\n",
              "      <th>InternetService_DSL</th>\n",
              "      <th>InternetService_Fiber optic</th>\n",
              "      <th>InternetService_No</th>\n",
              "    </tr>\n",
              "  </thead>\n",
              "  <tbody>\n",
              "    <tr>\n",
              "      <th>0</th>\n",
              "      <td>0.000000</td>\n",
              "      <td>0</td>\n",
              "      <td>1</td>\n",
              "      <td>0.115423</td>\n",
              "      <td>0.001275</td>\n",
              "      <td>0</td>\n",
              "      <td>0</td>\n",
              "      <td>0</td>\n",
              "      <td>1</td>\n",
              "      <td>0</td>\n",
              "      <td>...</td>\n",
              "      <td>1</td>\n",
              "      <td>0</td>\n",
              "      <td>0</td>\n",
              "      <td>0</td>\n",
              "      <td>0</td>\n",
              "      <td>1</td>\n",
              "      <td>0</td>\n",
              "      <td>1</td>\n",
              "      <td>0</td>\n",
              "      <td>0</td>\n",
              "    </tr>\n",
              "    <tr>\n",
              "      <th>1</th>\n",
              "      <td>0.464789</td>\n",
              "      <td>1</td>\n",
              "      <td>0</td>\n",
              "      <td>0.385075</td>\n",
              "      <td>0.215867</td>\n",
              "      <td>0</td>\n",
              "      <td>1</td>\n",
              "      <td>0</td>\n",
              "      <td>0</td>\n",
              "      <td>0</td>\n",
              "      <td>...</td>\n",
              "      <td>0</td>\n",
              "      <td>1</td>\n",
              "      <td>0</td>\n",
              "      <td>0</td>\n",
              "      <td>0</td>\n",
              "      <td>0</td>\n",
              "      <td>1</td>\n",
              "      <td>1</td>\n",
              "      <td>0</td>\n",
              "      <td>0</td>\n",
              "    </tr>\n",
              "    <tr>\n",
              "      <th>2</th>\n",
              "      <td>0.014085</td>\n",
              "      <td>1</td>\n",
              "      <td>1</td>\n",
              "      <td>0.354229</td>\n",
              "      <td>0.010310</td>\n",
              "      <td>1</td>\n",
              "      <td>1</td>\n",
              "      <td>0</td>\n",
              "      <td>0</td>\n",
              "      <td>0</td>\n",
              "      <td>...</td>\n",
              "      <td>1</td>\n",
              "      <td>0</td>\n",
              "      <td>0</td>\n",
              "      <td>0</td>\n",
              "      <td>0</td>\n",
              "      <td>0</td>\n",
              "      <td>1</td>\n",
              "      <td>1</td>\n",
              "      <td>0</td>\n",
              "      <td>0</td>\n",
              "    </tr>\n",
              "    <tr>\n",
              "      <th>3</th>\n",
              "      <td>0.619718</td>\n",
              "      <td>0</td>\n",
              "      <td>0</td>\n",
              "      <td>0.239303</td>\n",
              "      <td>0.210241</td>\n",
              "      <td>0</td>\n",
              "      <td>1</td>\n",
              "      <td>0</td>\n",
              "      <td>0</td>\n",
              "      <td>0</td>\n",
              "      <td>...</td>\n",
              "      <td>0</td>\n",
              "      <td>1</td>\n",
              "      <td>0</td>\n",
              "      <td>1</td>\n",
              "      <td>0</td>\n",
              "      <td>0</td>\n",
              "      <td>0</td>\n",
              "      <td>1</td>\n",
              "      <td>0</td>\n",
              "      <td>0</td>\n",
              "    </tr>\n",
              "    <tr>\n",
              "      <th>4</th>\n",
              "      <td>0.014085</td>\n",
              "      <td>1</td>\n",
              "      <td>1</td>\n",
              "      <td>0.521891</td>\n",
              "      <td>0.015330</td>\n",
              "      <td>1</td>\n",
              "      <td>0</td>\n",
              "      <td>0</td>\n",
              "      <td>0</td>\n",
              "      <td>0</td>\n",
              "      <td>...</td>\n",
              "      <td>1</td>\n",
              "      <td>0</td>\n",
              "      <td>0</td>\n",
              "      <td>0</td>\n",
              "      <td>0</td>\n",
              "      <td>1</td>\n",
              "      <td>0</td>\n",
              "      <td>0</td>\n",
              "      <td>1</td>\n",
              "      <td>0</td>\n",
              "    </tr>\n",
              "    <tr>\n",
              "      <th>...</th>\n",
              "      <td>...</td>\n",
              "      <td>...</td>\n",
              "      <td>...</td>\n",
              "      <td>...</td>\n",
              "      <td>...</td>\n",
              "      <td>...</td>\n",
              "      <td>...</td>\n",
              "      <td>...</td>\n",
              "      <td>...</td>\n",
              "      <td>...</td>\n",
              "      <td>...</td>\n",
              "      <td>...</td>\n",
              "      <td>...</td>\n",
              "      <td>...</td>\n",
              "      <td>...</td>\n",
              "      <td>...</td>\n",
              "      <td>...</td>\n",
              "      <td>...</td>\n",
              "      <td>...</td>\n",
              "      <td>...</td>\n",
              "      <td>...</td>\n",
              "    </tr>\n",
              "    <tr>\n",
              "      <th>7038</th>\n",
              "      <td>0.323944</td>\n",
              "      <td>1</td>\n",
              "      <td>1</td>\n",
              "      <td>0.662189</td>\n",
              "      <td>0.227521</td>\n",
              "      <td>0</td>\n",
              "      <td>1</td>\n",
              "      <td>0</td>\n",
              "      <td>1</td>\n",
              "      <td>1</td>\n",
              "      <td>...</td>\n",
              "      <td>0</td>\n",
              "      <td>1</td>\n",
              "      <td>0</td>\n",
              "      <td>0</td>\n",
              "      <td>0</td>\n",
              "      <td>0</td>\n",
              "      <td>1</td>\n",
              "      <td>1</td>\n",
              "      <td>0</td>\n",
              "      <td>0</td>\n",
              "    </tr>\n",
              "    <tr>\n",
              "      <th>7039</th>\n",
              "      <td>1.000000</td>\n",
              "      <td>1</td>\n",
              "      <td>1</td>\n",
              "      <td>0.845274</td>\n",
              "      <td>0.847461</td>\n",
              "      <td>0</td>\n",
              "      <td>0</td>\n",
              "      <td>0</td>\n",
              "      <td>1</td>\n",
              "      <td>1</td>\n",
              "      <td>...</td>\n",
              "      <td>0</td>\n",
              "      <td>1</td>\n",
              "      <td>0</td>\n",
              "      <td>0</td>\n",
              "      <td>1</td>\n",
              "      <td>0</td>\n",
              "      <td>0</td>\n",
              "      <td>0</td>\n",
              "      <td>1</td>\n",
              "      <td>0</td>\n",
              "    </tr>\n",
              "    <tr>\n",
              "      <th>7040</th>\n",
              "      <td>0.140845</td>\n",
              "      <td>0</td>\n",
              "      <td>1</td>\n",
              "      <td>0.112935</td>\n",
              "      <td>0.037809</td>\n",
              "      <td>0</td>\n",
              "      <td>0</td>\n",
              "      <td>0</td>\n",
              "      <td>1</td>\n",
              "      <td>1</td>\n",
              "      <td>...</td>\n",
              "      <td>1</td>\n",
              "      <td>0</td>\n",
              "      <td>0</td>\n",
              "      <td>0</td>\n",
              "      <td>0</td>\n",
              "      <td>1</td>\n",
              "      <td>0</td>\n",
              "      <td>1</td>\n",
              "      <td>0</td>\n",
              "      <td>0</td>\n",
              "    </tr>\n",
              "    <tr>\n",
              "      <th>7041</th>\n",
              "      <td>0.042254</td>\n",
              "      <td>1</td>\n",
              "      <td>1</td>\n",
              "      <td>0.558706</td>\n",
              "      <td>0.033210</td>\n",
              "      <td>1</td>\n",
              "      <td>1</td>\n",
              "      <td>1</td>\n",
              "      <td>1</td>\n",
              "      <td>0</td>\n",
              "      <td>...</td>\n",
              "      <td>1</td>\n",
              "      <td>0</td>\n",
              "      <td>0</td>\n",
              "      <td>0</td>\n",
              "      <td>0</td>\n",
              "      <td>0</td>\n",
              "      <td>1</td>\n",
              "      <td>0</td>\n",
              "      <td>1</td>\n",
              "      <td>0</td>\n",
              "    </tr>\n",
              "    <tr>\n",
              "      <th>7042</th>\n",
              "      <td>0.915493</td>\n",
              "      <td>1</td>\n",
              "      <td>1</td>\n",
              "      <td>0.869652</td>\n",
              "      <td>0.787641</td>\n",
              "      <td>0</td>\n",
              "      <td>1</td>\n",
              "      <td>0</td>\n",
              "      <td>0</td>\n",
              "      <td>0</td>\n",
              "      <td>...</td>\n",
              "      <td>0</td>\n",
              "      <td>0</td>\n",
              "      <td>1</td>\n",
              "      <td>1</td>\n",
              "      <td>0</td>\n",
              "      <td>0</td>\n",
              "      <td>0</td>\n",
              "      <td>0</td>\n",
              "      <td>1</td>\n",
              "      <td>0</td>\n",
              "    </tr>\n",
              "  </tbody>\n",
              "</table>\n",
              "<p>7032 rows × 33 columns</p>\n",
              "</div>\n",
              "      <button class=\"colab-df-convert\" onclick=\"convertToInteractive('df-7177fff6-eec3-4b0d-b18a-3973f41015f0')\"\n",
              "              title=\"Convert this dataframe to an interactive table.\"\n",
              "              style=\"display:none;\">\n",
              "        \n",
              "  <svg xmlns=\"http://www.w3.org/2000/svg\" height=\"24px\"viewBox=\"0 0 24 24\"\n",
              "       width=\"24px\">\n",
              "    <path d=\"M0 0h24v24H0V0z\" fill=\"none\"/>\n",
              "    <path d=\"M18.56 5.44l.94 2.06.94-2.06 2.06-.94-2.06-.94-.94-2.06-.94 2.06-2.06.94zm-11 1L8.5 8.5l.94-2.06 2.06-.94-2.06-.94L8.5 2.5l-.94 2.06-2.06.94zm10 10l.94 2.06.94-2.06 2.06-.94-2.06-.94-.94-2.06-.94 2.06-2.06.94z\"/><path d=\"M17.41 7.96l-1.37-1.37c-.4-.4-.92-.59-1.43-.59-.52 0-1.04.2-1.43.59L10.3 9.45l-7.72 7.72c-.78.78-.78 2.05 0 2.83L4 21.41c.39.39.9.59 1.41.59.51 0 1.02-.2 1.41-.59l7.78-7.78 2.81-2.81c.8-.78.8-2.07 0-2.86zM5.41 20L4 18.59l7.72-7.72 1.47 1.35L5.41 20z\"/>\n",
              "  </svg>\n",
              "      </button>\n",
              "      \n",
              "  <style>\n",
              "    .colab-df-container {\n",
              "      display:flex;\n",
              "      flex-wrap:wrap;\n",
              "      gap: 12px;\n",
              "    }\n",
              "\n",
              "    .colab-df-convert {\n",
              "      background-color: #E8F0FE;\n",
              "      border: none;\n",
              "      border-radius: 50%;\n",
              "      cursor: pointer;\n",
              "      display: none;\n",
              "      fill: #1967D2;\n",
              "      height: 32px;\n",
              "      padding: 0 0 0 0;\n",
              "      width: 32px;\n",
              "    }\n",
              "\n",
              "    .colab-df-convert:hover {\n",
              "      background-color: #E2EBFA;\n",
              "      box-shadow: 0px 1px 2px rgba(60, 64, 67, 0.3), 0px 1px 3px 1px rgba(60, 64, 67, 0.15);\n",
              "      fill: #174EA6;\n",
              "    }\n",
              "\n",
              "    [theme=dark] .colab-df-convert {\n",
              "      background-color: #3B4455;\n",
              "      fill: #D2E3FC;\n",
              "    }\n",
              "\n",
              "    [theme=dark] .colab-df-convert:hover {\n",
              "      background-color: #434B5C;\n",
              "      box-shadow: 0px 1px 3px 1px rgba(0, 0, 0, 0.15);\n",
              "      filter: drop-shadow(0px 1px 2px rgba(0, 0, 0, 0.3));\n",
              "      fill: #FFFFFF;\n",
              "    }\n",
              "  </style>\n",
              "\n",
              "      <script>\n",
              "        const buttonEl =\n",
              "          document.querySelector('#df-7177fff6-eec3-4b0d-b18a-3973f41015f0 button.colab-df-convert');\n",
              "        buttonEl.style.display =\n",
              "          google.colab.kernel.accessAllowed ? 'block' : 'none';\n",
              "\n",
              "        async function convertToInteractive(key) {\n",
              "          const element = document.querySelector('#df-7177fff6-eec3-4b0d-b18a-3973f41015f0');\n",
              "          const dataTable =\n",
              "            await google.colab.kernel.invokeFunction('convertToInteractive',\n",
              "                                                     [key], {});\n",
              "          if (!dataTable) return;\n",
              "\n",
              "          const docLinkHtml = 'Like what you see? Visit the ' +\n",
              "            '<a target=\"_blank\" href=https://colab.research.google.com/notebooks/data_table.ipynb>data table notebook</a>'\n",
              "            + ' to learn more about interactive tables.';\n",
              "          element.innerHTML = '';\n",
              "          dataTable['output_type'] = 'display_data';\n",
              "          await google.colab.output.renderOutput(dataTable, element);\n",
              "          const docLink = document.createElement('div');\n",
              "          docLink.innerHTML = docLinkHtml;\n",
              "          element.appendChild(docLink);\n",
              "        }\n",
              "      </script>\n",
              "    </div>\n",
              "  </div>\n",
              "  "
            ]
          },
          "metadata": {},
          "execution_count": 116
        }
      ]
    },
    {
      "cell_type": "code",
      "source": [
        "from sklearn.model_selection import train_test_split\n",
        "splitting = train_test_split(X, Y, test_size=0.25,random_state=42, shuffle=True)\n",
        "\n",
        "X_train, X_test, Y_train, Y_test = splitting\n",
        "\n",
        "splitting = train_test_split(X, Y, test_size=0.25, random_state=42, shuffle=True)\n",
        "\n",
        "X_train_cat, X_test_cat, Y_train_cat, Y_test_cat = splitting"
      ],
      "metadata": {
        "id": "71-ur73wT2s0"
      },
      "execution_count": null,
      "outputs": []
    },
    {
      "cell_type": "code",
      "source": [
        "%pip install imbalanced-learn\n",
        "from imblearn.over_sampling import SMOTE"
      ],
      "metadata": {
        "colab": {
          "base_uri": "https://localhost:8080/"
        },
        "id": "y95cAd9VHX2M",
        "outputId": "d5c6a3c0-87df-4466-90f2-223bd5fd19dc"
      },
      "execution_count": null,
      "outputs": [
        {
          "output_type": "stream",
          "name": "stdout",
          "text": [
            "Looking in indexes: https://pypi.org/simple, https://us-python.pkg.dev/colab-wheels/public/simple/\n",
            "Requirement already satisfied: imbalanced-learn in /usr/local/lib/python3.10/dist-packages (0.10.1)\n",
            "Requirement already satisfied: numpy>=1.17.3 in /usr/local/lib/python3.10/dist-packages (from imbalanced-learn) (1.22.4)\n",
            "Requirement already satisfied: scipy>=1.3.2 in /usr/local/lib/python3.10/dist-packages (from imbalanced-learn) (1.10.1)\n",
            "Requirement already satisfied: scikit-learn>=1.0.2 in /usr/local/lib/python3.10/dist-packages (from imbalanced-learn) (1.2.2)\n",
            "Requirement already satisfied: joblib>=1.1.1 in /usr/local/lib/python3.10/dist-packages (from imbalanced-learn) (1.2.0)\n",
            "Requirement already satisfied: threadpoolctl>=2.0.0 in /usr/local/lib/python3.10/dist-packages (from imbalanced-learn) (3.1.0)\n"
          ]
        }
      ]
    },
    {
      "cell_type": "code",
      "source": [
        "from imblearn.over_sampling import SMOTE # Synthetic Minority Over-sampling Technique\n",
        "\n",
        "smote = SMOTE(random_state=42)\n",
        "\n",
        "X_train, Y_train = smote.fit_resample(X_train, Y_train)\n",
        "\n",
        "X_train_cat, Y_train_cat = smote.fit_resample(X_train_cat, Y_train_cat)"
      ],
      "metadata": {
        "id": "H9RE9xATj0vk"
      },
      "execution_count": null,
      "outputs": []
    },
    {
      "cell_type": "code",
      "source": [
        "# (1) Gradient Boosting\n",
        "# Hyperparameter Tuning\n",
        "# parameter grid\n",
        "grid_parameters = {'n_estimators': [80, 90, 100, 110, 115, 120],\n",
        "                   'max_depth': [3, 4, 5, 6],\n",
        "                   'max_features': [None, 'auto', 'sqrt', 'log2'],\n",
        "                   'min_samples_split': [2, 3, 4, 5]}\n",
        "\n",
        "\n",
        "# defining the RandomizedSearchCV class for trying different parameter combinations\n",
        "from sklearn.model_selection import RandomizedSearchCV\n",
        "from sklearn.ensemble import GradientBoostingClassifier\n",
        "random_search = RandomizedSearchCV(estimator=GradientBoostingClassifier(),\n",
        "                                   param_distributions=grid_parameters,\n",
        "                                   cv=5,\n",
        "                                   n_iter=150,\n",
        "                                   n_jobs=-1,\n",
        "                                   error_score='raise')\n",
        "\n",
        "# n_iter:- Number of parameter settings that are sampled.\n",
        "# n_jobs:- Number of jobs to run in parallel, -1 means using all processors.\n",
        "# cv:- Determines the cross-validation splitting strategy, to use the default 5-fold cross validation.\n",
        "# param_distributions:- Lists of parameters to try.\n",
        "\n",
        "# fitting the model for random search\n",
        "random_search.fit(X_train, Y_train)\n",
        "\n",
        "# printing best parameter after tuning\n",
        "print(random_search.best_params_)"
      ],
      "metadata": {
        "id": "6utGr-oTU0tx",
        "colab": {
          "base_uri": "https://localhost:8080/"
        },
        "outputId": "626e1f7c-2e55-44e4-d0e0-22c45de16716"
      },
      "execution_count": null,
      "outputs": [
        {
          "output_type": "stream",
          "name": "stdout",
          "text": [
            "{'n_estimators': 120, 'min_samples_split': 4, 'max_features': 'sqrt', 'max_depth': 6}\n"
          ]
        }
      ]
    },
    {
      "cell_type": "code",
      "source": [
        "# Now that the model is trained, it is time to evaluate its performance using the testing set.\n",
        "\n",
        "# making the predictions\n",
        "random_search_predictions = random_search.predict(X_test)\n",
        "\n",
        "# construct the confusion matrix\n",
        "from sklearn.metrics import confusion_matrix\n",
        "confusion_matrix = confusion_matrix(Y_test, random_search_predictions)\n",
        "confusion_matrix\n"
      ],
      "metadata": {
        "id": "D-u2BRVbU0wf",
        "colab": {
          "base_uri": "https://localhost:8080/"
        },
        "outputId": "22f8b448-f33e-4f9c-f8e2-15055de1e139"
      },
      "execution_count": null,
      "outputs": [
        {
          "output_type": "execute_result",
          "data": {
            "text/plain": [
              "array([[1043,  257],\n",
              "       [ 155,  303]])"
            ]
          },
          "metadata": {},
          "execution_count": 121
        }
      ]
    },
    {
      "cell_type": "code",
      "source": [
        "# printing classification report\n",
        "from sklearn.metrics import classification_report\n",
        "print(classification_report(Y_test, random_search_predictions))\n"
      ],
      "metadata": {
        "id": "1ght8qRMU0zN",
        "colab": {
          "base_uri": "https://localhost:8080/"
        },
        "outputId": "3871f0ec-544b-4bdb-8c75-1c463e2ecde8"
      },
      "execution_count": null,
      "outputs": [
        {
          "output_type": "stream",
          "name": "stdout",
          "text": [
            "              precision    recall  f1-score   support\n",
            "\n",
            "           0       0.87      0.80      0.84      1300\n",
            "           1       0.54      0.66      0.60       458\n",
            "\n",
            "    accuracy                           0.77      1758\n",
            "   macro avg       0.71      0.73      0.72      1758\n",
            "weighted avg       0.78      0.77      0.77      1758\n",
            "\n"
          ]
        }
      ]
    },
    {
      "cell_type": "code",
      "source": [
        "# The previous summary does not contain the accuracy of the classification. However,\n",
        "# this can be easily calculated using the function \"accuracy_score\".\n",
        "\n",
        "# accuracy of the model\n",
        "from sklearn.metrics import accuracy_score\n",
        "accuracy_score(Y_test, random_search_predictions)"
      ],
      "metadata": {
        "id": "uPlxmYD1U02H",
        "colab": {
          "base_uri": "https://localhost:8080/"
        },
        "outputId": "c21c7b7a-9f64-4003-da4c-baa3c679e7b3"
      },
      "execution_count": null,
      "outputs": [
        {
          "output_type": "execute_result",
          "data": {
            "text/plain": [
              "0.7656427758816837"
            ]
          },
          "metadata": {},
          "execution_count": 123
        }
      ]
    },
    {
      "cell_type": "code",
      "source": [
        "# (2) ANN\n",
        "from sklearn.neural_network import MLPClassifier\n",
        "model = MLPClassifier(hidden_layer_sizes=50\n",
        "                     ,max_iter=5000\n",
        "                     ,solver='sgd'\n",
        "                     ,activation='relu'\n",
        "                     ,random_state=1\n",
        "                     ,verbose=True\n",
        "                     ,tol=0.0001,\n",
        "                     learning_rate='constant',\n",
        "                     learning_rate_init=0.001)"
      ],
      "metadata": {
        "id": "oKIOqCaIU05L"
      },
      "execution_count": null,
      "outputs": []
    },
    {
      "cell_type": "code",
      "source": [
        "model.fit(X_train, Y_train)"
      ],
      "metadata": {
        "id": "cg4N9HjGU08f"
      },
      "execution_count": null,
      "outputs": []
    },
    {
      "cell_type": "code",
      "source": [
        "#for predicting the classes\n",
        "y_train_predict = model.predict(X_train)\n",
        "y_test_predict = model.predict(X_test)\n",
        "\n",
        "#for predicting the probabilites\n",
        "y_train_predict_prob = model.predict_proba(X_train)\n",
        "y_test_predict_prob = model.predict_proba(X_test)"
      ],
      "metadata": {
        "id": "E2T1d8bEU0-G"
      },
      "execution_count": null,
      "outputs": []
    },
    {
      "cell_type": "code",
      "source": [
        "y_test_predict_prob = model.predict_proba(X_test)"
      ],
      "metadata": {
        "id": "xuVGiOf9U1Bb"
      },
      "execution_count": null,
      "outputs": []
    },
    {
      "cell_type": "code",
      "source": [
        "from sklearn import metrics\n",
        "# Checking the accuracy on the Testing data\n",
        "print(metrics.confusion_matrix(Y_test,y_test_predict))"
      ],
      "metadata": {
        "colab": {
          "base_uri": "https://localhost:8080/"
        },
        "id": "SUAW2rTdUeXa",
        "outputId": "f222d1ea-ba53-4538-9e77-cc5f6fdc84e7"
      },
      "execution_count": null,
      "outputs": [
        {
          "output_type": "stream",
          "name": "stdout",
          "text": [
            "[[1008  292]\n",
            " [ 142  316]]\n"
          ]
        }
      ]
    },
    {
      "cell_type": "code",
      "source": [
        "from sklearn.metrics import classification_report\n",
        "print(metrics.classification_report(Y_test,y_test_predict))"
      ],
      "metadata": {
        "colab": {
          "base_uri": "https://localhost:8080/"
        },
        "id": "Ngc96gXjUeav",
        "outputId": "3790bab2-2294-45a1-d3f0-430e1e10914e"
      },
      "execution_count": null,
      "outputs": [
        {
          "output_type": "stream",
          "name": "stdout",
          "text": [
            "              precision    recall  f1-score   support\n",
            "\n",
            "           0       0.88      0.78      0.82      1300\n",
            "           1       0.52      0.69      0.59       458\n",
            "\n",
            "    accuracy                           0.75      1758\n",
            "   macro avg       0.70      0.73      0.71      1758\n",
            "weighted avg       0.78      0.75      0.76      1758\n",
            "\n"
          ]
        }
      ]
    },
    {
      "cell_type": "code",
      "source": [
        "# accuracy of the model\n",
        "from sklearn.metrics import accuracy_score\n",
        "accuracy_score(Y_test, y_test_predict)"
      ],
      "metadata": {
        "colab": {
          "base_uri": "https://localhost:8080/"
        },
        "id": "xehribsNUefn",
        "outputId": "772faec7-8c6d-4ac4-ab27-e7c14b54143a"
      },
      "execution_count": null,
      "outputs": [
        {
          "output_type": "execute_result",
          "data": {
            "text/plain": [
              "0.7531285551763367"
            ]
          },
          "metadata": {},
          "execution_count": 131
        }
      ]
    },
    {
      "cell_type": "code",
      "source": [
        "# (3) Logistic Regression\n",
        "from sklearn.linear_model import LogisticRegression\n",
        "model = LogisticRegression()\n",
        "model.fit(X_train, Y_train)"
      ],
      "metadata": {
        "colab": {
          "base_uri": "https://localhost:8080/",
          "height": 213
        },
        "id": "UyihZqvCUeiU",
        "outputId": "fa7c0cb3-292b-4a67-dc1a-5b76b4993fe1"
      },
      "execution_count": null,
      "outputs": [
        {
          "output_type": "stream",
          "name": "stderr",
          "text": [
            "/usr/local/lib/python3.10/dist-packages/sklearn/linear_model/_logistic.py:458: ConvergenceWarning: lbfgs failed to converge (status=1):\n",
            "STOP: TOTAL NO. of ITERATIONS REACHED LIMIT.\n",
            "\n",
            "Increase the number of iterations (max_iter) or scale the data as shown in:\n",
            "    https://scikit-learn.org/stable/modules/preprocessing.html\n",
            "Please also refer to the documentation for alternative solver options:\n",
            "    https://scikit-learn.org/stable/modules/linear_model.html#logistic-regression\n",
            "  n_iter_i = _check_optimize_result(\n"
          ]
        },
        {
          "output_type": "execute_result",
          "data": {
            "text/plain": [
              "LogisticRegression()"
            ],
            "text/html": [
              "<style>#sk-container-id-2 {color: black;background-color: white;}#sk-container-id-2 pre{padding: 0;}#sk-container-id-2 div.sk-toggleable {background-color: white;}#sk-container-id-2 label.sk-toggleable__label {cursor: pointer;display: block;width: 100%;margin-bottom: 0;padding: 0.3em;box-sizing: border-box;text-align: center;}#sk-container-id-2 label.sk-toggleable__label-arrow:before {content: \"▸\";float: left;margin-right: 0.25em;color: #696969;}#sk-container-id-2 label.sk-toggleable__label-arrow:hover:before {color: black;}#sk-container-id-2 div.sk-estimator:hover label.sk-toggleable__label-arrow:before {color: black;}#sk-container-id-2 div.sk-toggleable__content {max-height: 0;max-width: 0;overflow: hidden;text-align: left;background-color: #f0f8ff;}#sk-container-id-2 div.sk-toggleable__content pre {margin: 0.2em;color: black;border-radius: 0.25em;background-color: #f0f8ff;}#sk-container-id-2 input.sk-toggleable__control:checked~div.sk-toggleable__content {max-height: 200px;max-width: 100%;overflow: auto;}#sk-container-id-2 input.sk-toggleable__control:checked~label.sk-toggleable__label-arrow:before {content: \"▾\";}#sk-container-id-2 div.sk-estimator input.sk-toggleable__control:checked~label.sk-toggleable__label {background-color: #d4ebff;}#sk-container-id-2 div.sk-label input.sk-toggleable__control:checked~label.sk-toggleable__label {background-color: #d4ebff;}#sk-container-id-2 input.sk-hidden--visually {border: 0;clip: rect(1px 1px 1px 1px);clip: rect(1px, 1px, 1px, 1px);height: 1px;margin: -1px;overflow: hidden;padding: 0;position: absolute;width: 1px;}#sk-container-id-2 div.sk-estimator {font-family: monospace;background-color: #f0f8ff;border: 1px dotted black;border-radius: 0.25em;box-sizing: border-box;margin-bottom: 0.5em;}#sk-container-id-2 div.sk-estimator:hover {background-color: #d4ebff;}#sk-container-id-2 div.sk-parallel-item::after {content: \"\";width: 100%;border-bottom: 1px solid gray;flex-grow: 1;}#sk-container-id-2 div.sk-label:hover label.sk-toggleable__label {background-color: #d4ebff;}#sk-container-id-2 div.sk-serial::before {content: \"\";position: absolute;border-left: 1px solid gray;box-sizing: border-box;top: 0;bottom: 0;left: 50%;z-index: 0;}#sk-container-id-2 div.sk-serial {display: flex;flex-direction: column;align-items: center;background-color: white;padding-right: 0.2em;padding-left: 0.2em;position: relative;}#sk-container-id-2 div.sk-item {position: relative;z-index: 1;}#sk-container-id-2 div.sk-parallel {display: flex;align-items: stretch;justify-content: center;background-color: white;position: relative;}#sk-container-id-2 div.sk-item::before, #sk-container-id-2 div.sk-parallel-item::before {content: \"\";position: absolute;border-left: 1px solid gray;box-sizing: border-box;top: 0;bottom: 0;left: 50%;z-index: -1;}#sk-container-id-2 div.sk-parallel-item {display: flex;flex-direction: column;z-index: 1;position: relative;background-color: white;}#sk-container-id-2 div.sk-parallel-item:first-child::after {align-self: flex-end;width: 50%;}#sk-container-id-2 div.sk-parallel-item:last-child::after {align-self: flex-start;width: 50%;}#sk-container-id-2 div.sk-parallel-item:only-child::after {width: 0;}#sk-container-id-2 div.sk-dashed-wrapped {border: 1px dashed gray;margin: 0 0.4em 0.5em 0.4em;box-sizing: border-box;padding-bottom: 0.4em;background-color: white;}#sk-container-id-2 div.sk-label label {font-family: monospace;font-weight: bold;display: inline-block;line-height: 1.2em;}#sk-container-id-2 div.sk-label-container {text-align: center;}#sk-container-id-2 div.sk-container {/* jupyter's `normalize.less` sets `[hidden] { display: none; }` but bootstrap.min.css set `[hidden] { display: none !important; }` so we also need the `!important` here to be able to override the default hidden behavior on the sphinx rendered scikit-learn.org. See: https://github.com/scikit-learn/scikit-learn/issues/21755 */display: inline-block !important;position: relative;}#sk-container-id-2 div.sk-text-repr-fallback {display: none;}</style><div id=\"sk-container-id-2\" class=\"sk-top-container\"><div class=\"sk-text-repr-fallback\"><pre>LogisticRegression()</pre><b>In a Jupyter environment, please rerun this cell to show the HTML representation or trust the notebook. <br />On GitHub, the HTML representation is unable to render, please try loading this page with nbviewer.org.</b></div><div class=\"sk-container\" hidden><div class=\"sk-item\"><div class=\"sk-estimator sk-toggleable\"><input class=\"sk-toggleable__control sk-hidden--visually\" id=\"sk-estimator-id-2\" type=\"checkbox\" checked><label for=\"sk-estimator-id-2\" class=\"sk-toggleable__label sk-toggleable__label-arrow\">LogisticRegression</label><div class=\"sk-toggleable__content\"><pre>LogisticRegression()</pre></div></div></div></div></div>"
            ]
          },
          "metadata": {},
          "execution_count": 132
        }
      ]
    },
    {
      "cell_type": "code",
      "source": [
        "y_pred = model.predict(X_test)\n",
        "y_pred"
      ],
      "metadata": {
        "colab": {
          "base_uri": "https://localhost:8080/"
        },
        "id": "80DLtgPtUemL",
        "outputId": "e330e37c-e441-430b-91ad-40c302d73d76"
      },
      "execution_count": null,
      "outputs": [
        {
          "output_type": "execute_result",
          "data": {
            "text/plain": [
              "array([0, 0, 1, ..., 0, 1, 0])"
            ]
          },
          "metadata": {},
          "execution_count": 133
        }
      ]
    },
    {
      "cell_type": "code",
      "source": [
        "from sklearn.metrics import classification_report\n",
        "print(classification_report(Y_test, y_pred))\n",
        "accuracy_score(Y_test, y_pred)"
      ],
      "metadata": {
        "colab": {
          "base_uri": "https://localhost:8080/"
        },
        "id": "5BAxTUtJUeoI",
        "outputId": "4cbdfa0d-7f5a-4185-a72a-6d5bfd12b850"
      },
      "execution_count": null,
      "outputs": [
        {
          "output_type": "stream",
          "name": "stdout",
          "text": [
            "              precision    recall  f1-score   support\n",
            "\n",
            "           0       0.89      0.80      0.84      1300\n",
            "           1       0.55      0.72      0.62       458\n",
            "\n",
            "    accuracy                           0.78      1758\n",
            "   macro avg       0.72      0.76      0.73      1758\n",
            "weighted avg       0.80      0.78      0.78      1758\n",
            "\n"
          ]
        },
        {
          "output_type": "execute_result",
          "data": {
            "text/plain": [
              "0.7753128555176336"
            ]
          },
          "metadata": {},
          "execution_count": 134
        }
      ]
    },
    {
      "cell_type": "code",
      "source": [
        "Pred_Prob = model.predict_proba(X_test)\n",
        "Pred_Prob\n",
        "Pred_Prob = model.predict_proba(X_test)[:,1]\n",
        "Pred_Prob"
      ],
      "metadata": {
        "colab": {
          "base_uri": "https://localhost:8080/"
        },
        "id": "qKUx0Gh4Uer6",
        "outputId": "e656a0c6-eef2-43ba-e811-2dc6df893348"
      },
      "execution_count": null,
      "outputs": [
        {
          "output_type": "execute_result",
          "data": {
            "text/plain": [
              "array([0.00801909, 0.30782779, 0.79022439, ..., 0.43035869, 0.71940613,\n",
              "       0.02963688])"
            ]
          },
          "metadata": {},
          "execution_count": 135
        }
      ]
    },
    {
      "cell_type": "code",
      "source": [
        "from sklearn.metrics import roc_curve,roc_auc_score\n",
        "FPR, TPR, _ = roc_curve(Y_test, Pred_Prob)\n",
        "\n",
        "import matplotlib.pyplot as plt\n",
        "plt.scatter(FPR,TPR)\n",
        "plt.ylabel(\"True positive rate\")\n",
        "plt.xlabel(\"False positive rate\")\n",
        "plt.show()\n",
        "\n",
        "auc = roc_auc_score(Y_test, Pred_Prob)\n",
        "print(\"Area under curve:\",auc.round(3))"
      ],
      "metadata": {
        "colab": {
          "base_uri": "https://localhost:8080/",
          "height": 466
        },
        "id": "_Z_yPBz4dHv-",
        "outputId": "3d9a33a4-541f-43d3-cdbd-2012ceec7e3b"
      },
      "execution_count": null,
      "outputs": [
        {
          "output_type": "display_data",
          "data": {
            "text/plain": [
              "<Figure size 640x480 with 1 Axes>"
            ],
            "image/png": "[encoded data removed]"
          },
          "metadata": {}
        },
        {
          "output_type": "stream",
          "name": "stdout",
          "text": [
            "Area under curve: 0.827\n"
          ]
        }
      ]
    },
    {
      "cell_type": "code",
      "source": [
        "#---------------------OR------------------------\n",
        "plt.plot(FPR,TPR)\n",
        "plt.ylabel(\"True positive rate\")\n",
        "plt.xlabel(\"False positive rate\")\n",
        "plt.show()\n",
        "\n",
        "auc = roc_auc_score(Y_test, Pred_Prob)\n",
        "print(\"Area under curve:\",auc.round(3))"
      ],
      "metadata": {
        "colab": {
          "base_uri": "https://localhost:8080/",
          "height": 466
        },
        "id": "2M5HVgssdbgo",
        "outputId": "8feeb848-75f8-468e-bd19-0b2f2173c2e0"
      },
      "execution_count": null,
      "outputs": [
        {
          "output_type": "display_data",
          "data": {
            "text/plain": [
              "<Figure size 640x480 with 1 Axes>"
            ],
            "image/png": "[encoded data removed]"
          },
          "metadata": {}
        },
        {
          "output_type": "stream",
          "name": "stdout",
          "text": [
            "Area under curve: 0.827\n"
          ]
        }
      ]
    },
    {
      "cell_type": "code",
      "source": [
        "# (4) Decision Tree\n",
        "from sklearn.tree import DecisionTreeClassifier\n",
        "\n",
        "model = DecisionTreeClassifier(criterion = 'gini', random_state=1)\n",
        "model.fit(X_train, Y_train)"
      ],
      "metadata": {
        "colab": {
          "base_uri": "https://localhost:8080/",
          "height": 74
        },
        "id": "n_iCURfEUetw",
        "outputId": "abac571b-ff09-4cab-8db7-61134b8ee0a4"
      },
      "execution_count": null,
      "outputs": [
        {
          "output_type": "execute_result",
          "data": {
            "text/plain": [
              "DecisionTreeClassifier(random_state=1)"
            ],
            "text/html": [
              "<style>#sk-container-id-3 {color: black;background-color: white;}#sk-container-id-3 pre{padding: 0;}#sk-container-id-3 div.sk-toggleable {background-color: white;}#sk-container-id-3 label.sk-toggleable__label {cursor: pointer;display: block;width: 100%;margin-bottom: 0;padding: 0.3em;box-sizing: border-box;text-align: center;}#sk-container-id-3 label.sk-toggleable__label-arrow:before {content: \"▸\";float: left;margin-right: 0.25em;color: #696969;}#sk-container-id-3 label.sk-toggleable__label-arrow:hover:before {color: black;}#sk-container-id-3 div.sk-estimator:hover label.sk-toggleable__label-arrow:before {color: black;}#sk-container-id-3 div.sk-toggleable__content {max-height: 0;max-width: 0;overflow: hidden;text-align: left;background-color: #f0f8ff;}#sk-container-id-3 div.sk-toggleable__content pre {margin: 0.2em;color: black;border-radius: 0.25em;background-color: #f0f8ff;}#sk-container-id-3 input.sk-toggleable__control:checked~div.sk-toggleable__content {max-height: 200px;max-width: 100%;overflow: auto;}#sk-container-id-3 input.sk-toggleable__control:checked~label.sk-toggleable__label-arrow:before {content: \"▾\";}#sk-container-id-3 div.sk-estimator input.sk-toggleable__control:checked~label.sk-toggleable__label {background-color: #d4ebff;}#sk-container-id-3 div.sk-label input.sk-toggleable__control:checked~label.sk-toggleable__label {background-color: #d4ebff;}#sk-container-id-3 input.sk-hidden--visually {border: 0;clip: rect(1px 1px 1px 1px);clip: rect(1px, 1px, 1px, 1px);height: 1px;margin: -1px;overflow: hidden;padding: 0;position: absolute;width: 1px;}#sk-container-id-3 div.sk-estimator {font-family: monospace;background-color: #f0f8ff;border: 1px dotted black;border-radius: 0.25em;box-sizing: border-box;margin-bottom: 0.5em;}#sk-container-id-3 div.sk-estimator:hover {background-color: #d4ebff;}#sk-container-id-3 div.sk-parallel-item::after {content: \"\";width: 100%;border-bottom: 1px solid gray;flex-grow: 1;}#sk-container-id-3 div.sk-label:hover label.sk-toggleable__label {background-color: #d4ebff;}#sk-container-id-3 div.sk-serial::before {content: \"\";position: absolute;border-left: 1px solid gray;box-sizing: border-box;top: 0;bottom: 0;left: 50%;z-index: 0;}#sk-container-id-3 div.sk-serial {display: flex;flex-direction: column;align-items: center;background-color: white;padding-right: 0.2em;padding-left: 0.2em;position: relative;}#sk-container-id-3 div.sk-item {position: relative;z-index: 1;}#sk-container-id-3 div.sk-parallel {display: flex;align-items: stretch;justify-content: center;background-color: white;position: relative;}#sk-container-id-3 div.sk-item::before, #sk-container-id-3 div.sk-parallel-item::before {content: \"\";position: absolute;border-left: 1px solid gray;box-sizing: border-box;top: 0;bottom: 0;left: 50%;z-index: -1;}#sk-container-id-3 div.sk-parallel-item {display: flex;flex-direction: column;z-index: 1;position: relative;background-color: white;}#sk-container-id-3 div.sk-parallel-item:first-child::after {align-self: flex-end;width: 50%;}#sk-container-id-3 div.sk-parallel-item:last-child::after {align-self: flex-start;width: 50%;}#sk-container-id-3 div.sk-parallel-item:only-child::after {width: 0;}#sk-container-id-3 div.sk-dashed-wrapped {border: 1px dashed gray;margin: 0 0.4em 0.5em 0.4em;box-sizing: border-box;padding-bottom: 0.4em;background-color: white;}#sk-container-id-3 div.sk-label label {font-family: monospace;font-weight: bold;display: inline-block;line-height: 1.2em;}#sk-container-id-3 div.sk-label-container {text-align: center;}#sk-container-id-3 div.sk-container {/* jupyter's `normalize.less` sets `[hidden] { display: none; }` but bootstrap.min.css set `[hidden] { display: none !important; }` so we also need the `!important` here to be able to override the default hidden behavior on the sphinx rendered scikit-learn.org. See: https://github.com/scikit-learn/scikit-learn/issues/21755 */display: inline-block !important;position: relative;}#sk-container-id-3 div.sk-text-repr-fallback {display: none;}</style><div id=\"sk-container-id-3\" class=\"sk-top-container\"><div class=\"sk-text-repr-fallback\"><pre>DecisionTreeClassifier(random_state=1)</pre><b>In a Jupyter environment, please rerun this cell to show the HTML representation or trust the notebook. <br />On GitHub, the HTML representation is unable to render, please try loading this page with nbviewer.org.</b></div><div class=\"sk-container\" hidden><div class=\"sk-item\"><div class=\"sk-estimator sk-toggleable\"><input class=\"sk-toggleable__control sk-hidden--visually\" id=\"sk-estimator-id-3\" type=\"checkbox\" checked><label for=\"sk-estimator-id-3\" class=\"sk-toggleable__label sk-toggleable__label-arrow\">DecisionTreeClassifier</label><div class=\"sk-toggleable__content\"><pre>DecisionTreeClassifier(random_state=1)</pre></div></div></div></div></div>"
            ]
          },
          "metadata": {},
          "execution_count": 138
        }
      ]
    },
    {
      "cell_type": "code",
      "source": [
        "y_pred = model.predict(X_test)\n",
        "y_pred"
      ],
      "metadata": {
        "colab": {
          "base_uri": "https://localhost:8080/"
        },
        "id": "vi60xnhXUevk",
        "outputId": "685031fa-b969-46ec-8eb8-f18ede029d1d"
      },
      "execution_count": null,
      "outputs": [
        {
          "output_type": "execute_result",
          "data": {
            "text/plain": [
              "array([0, 0, 0, ..., 0, 0, 0])"
            ]
          },
          "metadata": {},
          "execution_count": 139
        }
      ]
    },
    {
      "cell_type": "code",
      "source": [
        "from sklearn.metrics import classification_report\n",
        "print(classification_report(Y_test, y_pred))"
      ],
      "metadata": {
        "colab": {
          "base_uri": "https://localhost:8080/"
        },
        "id": "A4wdCHhGUeyu",
        "outputId": "44d35c90-59c2-4045-9292-3a2044bc8b6a"
      },
      "execution_count": null,
      "outputs": [
        {
          "output_type": "stream",
          "name": "stdout",
          "text": [
            "              precision    recall  f1-score   support\n",
            "\n",
            "           0       0.83      0.78      0.80      1300\n",
            "           1       0.46      0.53      0.49       458\n",
            "\n",
            "    accuracy                           0.71      1758\n",
            "   macro avg       0.64      0.66      0.65      1758\n",
            "weighted avg       0.73      0.71      0.72      1758\n",
            "\n"
          ]
        }
      ]
    },
    {
      "cell_type": "code",
      "source": [
        "# accuracy of the model\n",
        "accuracy_score(Y_test, y_pred)"
      ],
      "metadata": {
        "colab": {
          "base_uri": "https://localhost:8080/"
        },
        "id": "rrs4ZGaKUe1K",
        "outputId": "5804b2da-f2e2-4ef1-f58f-216af8e80714"
      },
      "execution_count": null,
      "outputs": [
        {
          "output_type": "execute_result",
          "data": {
            "text/plain": [
              "0.7127417519908987"
            ]
          },
          "metadata": {},
          "execution_count": 141
        }
      ]
    },
    {
      "cell_type": "code",
      "source": [
        "# (5) Random Forest\n",
        "from sklearn.ensemble import RandomForestClassifier\n",
        "RFC = RandomForestClassifier(n_estimators=1000,random_state=1)\n",
        "RFC.fit(X_train,Y_train)"
      ],
      "metadata": {
        "colab": {
          "base_uri": "https://localhost:8080/",
          "height": 74
        },
        "id": "-HZ_eoAdUe40",
        "outputId": "ba52e4e9-5f27-4684-c2e3-5fe471201837"
      },
      "execution_count": null,
      "outputs": [
        {
          "output_type": "execute_result",
          "data": {
            "text/plain": [
              "RandomForestClassifier(n_estimators=1000, random_state=1)"
            ],
            "text/html": [
              "<style>#sk-container-id-4 {color: black;background-color: white;}#sk-container-id-4 pre{padding: 0;}#sk-container-id-4 div.sk-toggleable {background-color: white;}#sk-container-id-4 label.sk-toggleable__label {cursor: pointer;display: block;width: 100%;margin-bottom: 0;padding: 0.3em;box-sizing: border-box;text-align: center;}#sk-container-id-4 label.sk-toggleable__label-arrow:before {content: \"▸\";float: left;margin-right: 0.25em;color: #696969;}#sk-container-id-4 label.sk-toggleable__label-arrow:hover:before {color: black;}#sk-container-id-4 div.sk-estimator:hover label.sk-toggleable__label-arrow:before {color: black;}#sk-container-id-4 div.sk-toggleable__content {max-height: 0;max-width: 0;overflow: hidden;text-align: left;background-color: #f0f8ff;}#sk-container-id-4 div.sk-toggleable__content pre {margin: 0.2em;color: black;border-radius: 0.25em;background-color: #f0f8ff;}#sk-container-id-4 input.sk-toggleable__control:checked~div.sk-toggleable__content {max-height: 200px;max-width: 100%;overflow: auto;}#sk-container-id-4 input.sk-toggleable__control:checked~label.sk-toggleable__label-arrow:before {content: \"▾\";}#sk-container-id-4 div.sk-estimator input.sk-toggleable__control:checked~label.sk-toggleable__label {background-color: #d4ebff;}#sk-container-id-4 div.sk-label input.sk-toggleable__control:checked~label.sk-toggleable__label {background-color: #d4ebff;}#sk-container-id-4 input.sk-hidden--visually {border: 0;clip: rect(1px 1px 1px 1px);clip: rect(1px, 1px, 1px, 1px);height: 1px;margin: -1px;overflow: hidden;padding: 0;position: absolute;width: 1px;}#sk-container-id-4 div.sk-estimator {font-family: monospace;background-color: #f0f8ff;border: 1px dotted black;border-radius: 0.25em;box-sizing: border-box;margin-bottom: 0.5em;}#sk-container-id-4 div.sk-estimator:hover {background-color: #d4ebff;}#sk-container-id-4 div.sk-parallel-item::after {content: \"\";width: 100%;border-bottom: 1px solid gray;flex-grow: 1;}#sk-container-id-4 div.sk-label:hover label.sk-toggleable__label {background-color: #d4ebff;}#sk-container-id-4 div.sk-serial::before {content: \"\";position: absolute;border-left: 1px solid gray;box-sizing: border-box;top: 0;bottom: 0;left: 50%;z-index: 0;}#sk-container-id-4 div.sk-serial {display: flex;flex-direction: column;align-items: center;background-color: white;padding-right: 0.2em;padding-left: 0.2em;position: relative;}#sk-container-id-4 div.sk-item {position: relative;z-index: 1;}#sk-container-id-4 div.sk-parallel {display: flex;align-items: stretch;justify-content: center;background-color: white;position: relative;}#sk-container-id-4 div.sk-item::before, #sk-container-id-4 div.sk-parallel-item::before {content: \"\";position: absolute;border-left: 1px solid gray;box-sizing: border-box;top: 0;bottom: 0;left: 50%;z-index: -1;}#sk-container-id-4 div.sk-parallel-item {display: flex;flex-direction: column;z-index: 1;position: relative;background-color: white;}#sk-container-id-4 div.sk-parallel-item:first-child::after {align-self: flex-end;width: 50%;}#sk-container-id-4 div.sk-parallel-item:last-child::after {align-self: flex-start;width: 50%;}#sk-container-id-4 div.sk-parallel-item:only-child::after {width: 0;}#sk-container-id-4 div.sk-dashed-wrapped {border: 1px dashed gray;margin: 0 0.4em 0.5em 0.4em;box-sizing: border-box;padding-bottom: 0.4em;background-color: white;}#sk-container-id-4 div.sk-label label {font-family: monospace;font-weight: bold;display: inline-block;line-height: 1.2em;}#sk-container-id-4 div.sk-label-container {text-align: center;}#sk-container-id-4 div.sk-container {/* jupyter's `normalize.less` sets `[hidden] { display: none; }` but bootstrap.min.css set `[hidden] { display: none !important; }` so we also need the `!important` here to be able to override the default hidden behavior on the sphinx rendered scikit-learn.org. See: https://github.com/scikit-learn/scikit-learn/issues/21755 */display: inline-block !important;position: relative;}#sk-container-id-4 div.sk-text-repr-fallback {display: none;}</style><div id=\"sk-container-id-4\" class=\"sk-top-container\"><div class=\"sk-text-repr-fallback\"><pre>RandomForestClassifier(n_estimators=1000, random_state=1)</pre><b>In a Jupyter environment, please rerun this cell to show the HTML representation or trust the notebook. <br />On GitHub, the HTML representation is unable to render, please try loading this page with nbviewer.org.</b></div><div class=\"sk-container\" hidden><div class=\"sk-item\"><div class=\"sk-estimator sk-toggleable\"><input class=\"sk-toggleable__control sk-hidden--visually\" id=\"sk-estimator-id-4\" type=\"checkbox\" checked><label for=\"sk-estimator-id-4\" class=\"sk-toggleable__label sk-toggleable__label-arrow\">RandomForestClassifier</label><div class=\"sk-toggleable__content\"><pre>RandomForestClassifier(n_estimators=1000, random_state=1)</pre></div></div></div></div></div>"
            ]
          },
          "metadata": {},
          "execution_count": 142
        }
      ]
    },
    {
      "cell_type": "code",
      "source": [
        "print(RFC.score(X_train, Y_train))\n",
        "print(RFC.score(X_test, Y_test))"
      ],
      "metadata": {
        "colab": {
          "base_uri": "https://localhost:8080/"
        },
        "id": "G2oj1UTjUe6e",
        "outputId": "744ac33b-af82-4837-8fea-af17fe7bcc59"
      },
      "execution_count": null,
      "outputs": [
        {
          "output_type": "stream",
          "name": "stdout",
          "text": [
            "0.9988351022521357\n",
            "0.7616609783845278\n"
          ]
        }
      ]
    },
    {
      "cell_type": "code",
      "source": [
        "RFC1 = RandomForestClassifier(n_estimators=100,random_state=1)\n",
        "RFC1.fit(X_train,Y_train)\n",
        "print(RFC1.score(X_train, Y_train))\n",
        "print(RFC1.score(X_test, Y_test))\n",
        "\n",
        "RFC1 = RandomForestClassifier(n_estimators=10000, max_depth=9, random_state=1)\n",
        "RFC1.fit(X_train,Y_train)\n",
        "print(RFC1.score(X_train, Y_train))\n",
        "print(RFC1.score(X_test, Y_test))"
      ],
      "metadata": {
        "colab": {
          "base_uri": "https://localhost:8080/"
        },
        "id": "EmGIEWwBabTk",
        "outputId": "6e18c6d0-46e5-40b4-fc51-ad44ef6082c4"
      },
      "execution_count": null,
      "outputs": [
        {
          "output_type": "stream",
          "name": "stdout",
          "text": [
            "0.9988351022521357\n",
            "0.7593856655290102\n",
            "0.865260160497023\n",
            "0.7440273037542662\n"
          ]
        }
      ]
    },
    {
      "cell_type": "code",
      "source": [
        "RFC1 = RandomForestClassifier(n_estimators=100, max_depth=3, random_state=1)\n",
        "RFC1.fit(X_train,Y_train)\n",
        "print(RFC1.score(X_train, Y_train))\n",
        "print(RFC1.score(X_test, Y_test))\n",
        "\n",
        "RFC1 = RandomForestClassifier(n_estimators=1000, max_depth=3, random_state=1)\n",
        "RFC1.fit(X_train,Y_train)\n",
        "print(RFC1.score(X_train, Y_train))\n",
        "print(RFC1.score(X_test, Y_test))\n",
        "\n",
        "RFC1 = RandomForestClassifier(n_estimators=10000, max_depth=4, random_state=1)\n",
        "RFC1.fit(X_train,Y_train)\n",
        "print(RFC1.score(X_train, Y_train))\n",
        "print(RFC1.score(X_test, Y_test))\n",
        "\n",
        "RFC1 = RandomForestClassifier(n_estimators=10000, max_depth=5, random_state=1)\n",
        "RFC1.fit(X_train,Y_train)\n",
        "print(RFC1.score(X_train, Y_train))\n",
        "print(RFC1.score(X_test, Y_test))\n",
        "\n",
        "RFC1 = RandomForestClassifier(n_estimators=1000, max_depth=6, random_state=1)\n",
        "RFC1.fit(X_train,Y_train)\n",
        "print(RFC1.score(X_train, Y_train))\n",
        "print(RFC1.score(X_test, Y_test))\n",
        "\n",
        "RFC1 = RandomForestClassifier(n_estimators=10000, max_depth=7, random_state=1)\n",
        "RFC1.fit(X_train,Y_train)\n",
        "print(RFC1.score(X_train, Y_train))\n",
        "print(RFC1.score(X_test, Y_test))\n"
      ],
      "metadata": {
        "colab": {
          "base_uri": "https://localhost:8080/"
        },
        "id": "LTZFLqd5Ue9b",
        "outputId": "c5b127c8-c6e8-4e22-8141-dd6accb4ba24"
      },
      "execution_count": null,
      "outputs": [
        {
          "output_type": "stream",
          "name": "stdout",
          "text": [
            "0.7765984985762361\n",
            "0.7167235494880546\n",
            "0.7749158684959876\n",
            "0.717292377701934\n",
            "0.7857882474760549\n",
            "0.7303754266211604\n",
            "0.7982138234532746\n",
            "0.735494880546075\n",
            "0.8145223919233756\n",
            "0.7349260523321957\n",
            "0.8312192596427647\n",
            "0.7372013651877133\n",
            "0.865260160497023\n",
            "0.7440273037542662\n"
          ]
        }
      ]
    },
    {
      "cell_type": "code",
      "source": [
        "# (6) Support Vector Machine (SVM)\n",
        "from sklearn.svm import SVC\n",
        "\n",
        "model.svm = SVC(kernel='linear')\n",
        "model.svm.fit(X_train,Y_train)\n",
        "preds = model.svm.predict(X_test)\n"
      ],
      "metadata": {
        "id": "8Io7cwt2Ue__"
      },
      "execution_count": null,
      "outputs": []
    },
    {
      "cell_type": "code",
      "source": [
        "# Creating the Confusion matrix\n",
        "from sklearn.metrics import classification_report, confusion_matrix\n",
        "print(confusion_matrix(Y_test,preds))\n",
        "print(classification_report(Y_test,preds))\n",
        "metrics.accuracy_score(Y_test, preds)\n",
        "metrics.accuracy_score(Y_test, preds)"
      ],
      "metadata": {
        "colab": {
          "base_uri": "https://localhost:8080/"
        },
        "id": "c3vNEr_8UfDi",
        "outputId": "f0dcec78-8d54-44a4-dee6-615c608203d6"
      },
      "execution_count": null,
      "outputs": [
        {
          "output_type": "stream",
          "name": "stdout",
          "text": [
            "[[1030  270]\n",
            " [ 130  328]]\n",
            "              precision    recall  f1-score   support\n",
            "\n",
            "           0       0.89      0.79      0.84      1300\n",
            "           1       0.55      0.72      0.62       458\n",
            "\n",
            "    accuracy                           0.77      1758\n",
            "   macro avg       0.72      0.75      0.73      1758\n",
            "weighted avg       0.80      0.77      0.78      1758\n",
            "\n"
          ]
        },
        {
          "output_type": "execute_result",
          "data": {
            "text/plain": [
              "0.7724687144482366"
            ]
          },
          "metadata": {},
          "execution_count": 148
        }
      ]
    },
    {
      "cell_type": "code",
      "source": [
        "# (7) AdaBoost\n",
        "\n",
        "from sklearn.ensemble import AdaBoostClassifier\n",
        "model = AdaBoostClassifier()\n",
        "model.fit(X_train,Y_train)\n",
        "\n",
        "preds = model.predict(X_test)\n",
        "metrics.accuracy_score(Y_test, preds)"
      ],
      "metadata": {
        "colab": {
          "base_uri": "https://localhost:8080/"
        },
        "id": "CyJmTXtWUfFi",
        "outputId": "41bec717-8c25-4b54-92aa-1390bea8982e"
      },
      "execution_count": null,
      "outputs": [
        {
          "output_type": "execute_result",
          "data": {
            "text/plain": [
              "0.7474402730375427"
            ]
          },
          "metadata": {},
          "execution_count": 149
        }
      ]
    },
    {
      "cell_type": "code",
      "source": [
        "# (8) XG Boost\n",
        "\n",
        "from xgboost import XGBClassifier\n",
        "model = XGBClassifier()\n",
        "model.fit(X_train, Y_train)\n",
        "preds = model.predict(X_test)\n",
        "\n",
        "print(classification_report(Y_test,preds))\n",
        "metrics.accuracy_score(Y_test, preds)"
      ],
      "metadata": {
        "colab": {
          "base_uri": "https://localhost:8080/"
        },
        "id": "UJoijVMPUfH9",
        "outputId": "a2c37602-b587-4bd7-98c7-2de580d48b22"
      },
      "execution_count": null,
      "outputs": [
        {
          "output_type": "stream",
          "name": "stdout",
          "text": [
            "              precision    recall  f1-score   support\n",
            "\n",
            "           0       0.85      0.80      0.83      1300\n",
            "           1       0.52      0.61      0.56       458\n",
            "\n",
            "    accuracy                           0.75      1758\n",
            "   macro avg       0.69      0.71      0.70      1758\n",
            "weighted avg       0.77      0.75      0.76      1758\n",
            "\n"
          ]
        },
        {
          "output_type": "execute_result",
          "data": {
            "text/plain": [
              "0.7542662116040956"
            ]
          },
          "metadata": {},
          "execution_count": 150
        }
      ]
    },
    {
      "cell_type": "code",
      "source": [
        "# (9) Bagging\n",
        "\n",
        "from sklearn.ensemble import BaggingClassifier\n",
        "Bag = BaggingClassifier(base_estimator = DecisionTreeClassifier(),\n",
        "                        n_estimators = 500,\n",
        "                        max_samples =0.7,max_features = 0.7,random_state=24)\n",
        "\n",
        "Bag.fit(X_train,Y_train)\n",
        "Y_pred_train = Bag.predict(X_train)\n",
        "Y_pred_test  = Bag.predict(X_test)"
      ],
      "metadata": {
        "colab": {
          "base_uri": "https://localhost:8080/"
        },
        "id": "ezm1LBUEUfK4",
        "outputId": "aa57bb09-f8db-4a7f-b2e6-034ee5cc02a6"
      },
      "execution_count": null,
      "outputs": [
        {
          "output_type": "stream",
          "name": "stderr",
          "text": [
            "/usr/local/lib/python3.10/dist-packages/sklearn/ensemble/_base.py:166: FutureWarning: `base_estimator` was renamed to `estimator` in version 1.2 and will be removed in 1.4.\n",
            "  warnings.warn(\n"
          ]
        }
      ]
    },
    {
      "cell_type": "code",
      "source": [
        "print(classification_report(Y_test,Y_pred_test))\n",
        "metrics.accuracy_score(Y_test, Y_pred_test)"
      ],
      "metadata": {
        "colab": {
          "base_uri": "https://localhost:8080/"
        },
        "id": "VtKEq6UkUfOZ",
        "outputId": "dd3c9d36-97a3-47cb-e1aa-b598dd1e2dd0"
      },
      "execution_count": null,
      "outputs": [
        {
          "output_type": "stream",
          "name": "stdout",
          "text": [
            "              precision    recall  f1-score   support\n",
            "\n",
            "           0       0.86      0.80      0.83      1300\n",
            "           1       0.53      0.64      0.58       458\n",
            "\n",
            "    accuracy                           0.76      1758\n",
            "   macro avg       0.70      0.72      0.71      1758\n",
            "weighted avg       0.78      0.76      0.77      1758\n",
            "\n"
          ]
        },
        {
          "output_type": "execute_result",
          "data": {
            "text/plain": [
              "0.7605233219567691"
            ]
          },
          "metadata": {},
          "execution_count": 153
        }
      ]
    },
    {
      "cell_type": "code",
      "source": [
        "# (10) KNN\n",
        "from sklearn.neighbors import KNeighborsClassifier\n",
        "KNN = KNeighborsClassifier(n_neighbors = 5, p = 2) # p = 2 --> Euclidian Distance\n",
        "\n",
        "KNN.fit(X_train, Y_train)\n",
        "\n",
        "Y_train_pred = KNN.predict(X_train)\n",
        "Y_train_pred\n",
        "\n",
        "Y_test_pred = KNN.predict(X_test)\n",
        "Y_test_pred\n"
      ],
      "metadata": {
        "colab": {
          "base_uri": "https://localhost:8080/"
        },
        "id": "i6N6e3RxUfQb",
        "outputId": "b9eaaa75-8cba-4d69-d638-26e1612c251f"
      },
      "execution_count": null,
      "outputs": [
        {
          "output_type": "execute_result",
          "data": {
            "text/plain": [
              "array([0, 1, 1, ..., 0, 1, 0])"
            ]
          },
          "metadata": {},
          "execution_count": 154
        }
      ]
    },
    {
      "cell_type": "code",
      "source": [
        "print(classification_report(Y_test,Y_test_pred))\n",
        "metrics.accuracy_score(Y_test, Y_test_pred)"
      ],
      "metadata": {
        "id": "mejp5K7QU1D-",
        "colab": {
          "base_uri": "https://localhost:8080/"
        },
        "outputId": "8a638207-0d29-465d-ef30-fc3008679e0c"
      },
      "execution_count": null,
      "outputs": [
        {
          "output_type": "stream",
          "name": "stdout",
          "text": [
            "              precision    recall  f1-score   support\n",
            "\n",
            "           0       0.87      0.72      0.79      1300\n",
            "           1       0.47      0.69      0.56       458\n",
            "\n",
            "    accuracy                           0.71      1758\n",
            "   macro avg       0.67      0.71      0.67      1758\n",
            "weighted avg       0.76      0.71      0.73      1758\n",
            "\n"
          ]
        },
        {
          "output_type": "execute_result",
          "data": {
            "text/plain": [
              "0.7138794084186576"
            ]
          },
          "metadata": {},
          "execution_count": 155
        }
      ]
    },
    {
      "cell_type": "code",
      "source": [
        "import pickle\n",
        "\n",
        "file_name = 'Telecome.ipynb'\n",
        "\n",
        "pickle.dump(LogisticRegression().fit(X, Y), open(file_name, 'wb'))\n",
        "\n",
        "load_model = pickle.load(open(file_name, 'rb'))\n",
        "\n",
        "load_model.score(X, Y)"
      ],
      "metadata": {
        "colab": {
          "base_uri": "https://localhost:8080/"
        },
        "id": "x44nlG6XKLVX",
        "outputId": "90f74f3e-3d5d-41bd-8146-5cf556f494b1"
      },
      "execution_count": null,
      "outputs": [
        {
          "output_type": "stream",
          "name": "stderr",
          "text": [
            "/usr/local/lib/python3.10/dist-packages/sklearn/linear_model/_logistic.py:458: ConvergenceWarning: lbfgs failed to converge (status=1):\n",
            "STOP: TOTAL NO. of ITERATIONS REACHED LIMIT.\n",
            "\n",
            "Increase the number of iterations (max_iter) or scale the data as shown in:\n",
            "    https://scikit-learn.org/stable/modules/preprocessing.html\n",
            "Please also refer to the documentation for alternative solver options:\n",
            "    https://scikit-learn.org/stable/modules/linear_model.html#logistic-regression\n",
            "  n_iter_i = _check_optimize_result(\n"
          ]
        },
        {
          "output_type": "execute_result",
          "data": {
            "text/plain": [
              "0.8053185437997725"
            ]
          },
          "metadata": {},
          "execution_count": 180
        }
      ]
    },
    {
      "cell_type": "code",
      "source": [],
      "metadata": {
        "id": "gDhdm1j5KLc-"
      },
      "execution_count": null,
      "outputs": []
    },
    {
      "cell_type": "code",
      "source": [],
      "metadata": {
        "id": "srfuCK61KLgR"
      },
      "execution_count": null,
      "outputs": []
    }
  ]
}